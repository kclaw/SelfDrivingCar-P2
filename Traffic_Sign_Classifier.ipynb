{
 "cells": [
  {
   "cell_type": "markdown",
   "metadata": {},
   "source": [
    "# Self-Driving Car Engineer Nanodegree\n",
    "\n",
    "## Deep Learning\n",
    "\n",
    "## Project: Build a Traffic Sign Recognition Classifier\n",
    "\n",
    "In this notebook, a template is provided for you to implement your functionality in stages, which is required to successfully complete this project. If additional code is required that cannot be included in the notebook, be sure that the Python code is successfully imported and included in your submission if necessary. \n",
    "\n",
    "> **Note**: Once you have completed all of the code implementations, you need to finalize your work by exporting the iPython Notebook as an HTML document. Before exporting the notebook to html, all of the code cells need to have been run so that reviewers can see the final implementation and output. You can then export the notebook by using the menu above and navigating to  \\n\",\n",
    "    \"**File -> Download as -> HTML (.html)**. Include the finished document along with this notebook as your submission. \n",
    "\n",
    "In addition to implementing code, there is a writeup to complete. The writeup should be completed in a separate file, which can be either a markdown file or a pdf document. There is a [write up template](https://github.com/udacity/CarND-Traffic-Sign-Classifier-Project/blob/master/writeup_template.md) that can be used to guide the writing process. Completing the code template and writeup template will cover all of the [rubric points](https://review.udacity.com/#!/rubrics/481/view) for this project.\n",
    "\n",
    "The [rubric](https://review.udacity.com/#!/rubrics/481/view) contains \"Stand Out Suggestions\" for enhancing the project beyond the minimum requirements. The stand out suggestions are optional. If you decide to pursue the \"stand out suggestions\", you can include the code in this Ipython notebook and also discuss the results in the writeup file.\n",
    "\n",
    "\n",
    ">**Note:** Code and Markdown cells can be executed using the **Shift + Enter** keyboard shortcut. In addition, Markdown cells can be edited by typically double-clicking the cell to enter edit mode."
   ]
  },
  {
   "cell_type": "markdown",
   "metadata": {},
   "source": [
    "---\n",
    "## Step 0: Load The Data"
   ]
  },
  {
   "cell_type": "code",
   "execution_count": 4,
   "metadata": {
    "collapsed": false
   },
   "outputs": [],
   "source": [
    "# Load pickled data\n",
    "import pickle\n",
    "# TODO: Fill this in based on where you saved the training and testing data\n",
    "\n",
    "training_file = \"/home/lkc-u330/Desktop/CarND-Traffic-Sign-Classifier-Project/CarND-Traffic-Sign-Classifier-Project/train.p\"\n",
    "validation_file= \"/home/lkc-u330/Desktop/CarND-Traffic-Sign-Classifier-Project/CarND-Traffic-Sign-Classifier-Project/valid.p\"\n",
    "testing_file = \"/home/lkc-u330/Desktop/CarND-Traffic-Sign-Classifier-Project/CarND-Traffic-Sign-Classifier-Project/test.p\"\n",
    "\n",
    "with open(training_file, mode='rb') as f:\n",
    "    train = pickle.load(f)\n",
    "with open(validation_file, mode='rb') as f:\n",
    "    valid = pickle.load(f)\n",
    "with open(testing_file, mode='rb') as f:\n",
    "    test = pickle.load(f)\n",
    "    \n",
    "train_features, train_labels, train_sizes, train_coords = train['features'], train['labels'] , train['sizes'] , train['coords']\n",
    "valid_features, valid_labels, valid_sizes, valid_coords = valid['features'], valid['labels'], valid['sizes'], valid['coords']\n",
    "test_features, test_labels, test_sizes, test_coords = test['features'], test['labels'], test['sizes'], test['coords']\n"
   ]
  },
  {
   "cell_type": "markdown",
   "metadata": {},
   "source": [
    "---\n",
    "\n",
    "## Step 1: Dataset Summary & Exploration\n",
    "\n",
    "The pickled data is a dictionary with 4 key/value pairs:\n",
    "\n",
    "- `'features'` is a 4D array containing raw pixel data of the traffic sign images, (num examples, width, height, channels).\n",
    "- `'labels'` is a 1D array containing the label/class id of the traffic sign. The file `signnames.csv` contains id -> name mappings for each id.\n",
    "- `'sizes'` is a list containing tuples, (width, height) representing the the original width and height the image.\n",
    "- `'coords'` is a list containing tuples, (x1, y1, x2, y2) representing coordinates of a bounding box around the sign in the image. **THESE COORDINATES ASSUME THE ORIGINAL IMAGE. THE PICKLED DATA CONTAINS RESIZED VERSIONS (32 by 32) OF THESE IMAGES**\n",
    "\n",
    "Complete the basic data summary below. Use python, numpy and/or pandas methods to calculate the data summary rather than hard coding the results. For example, the [pandas shape method](http://pandas.pydata.org/pandas-docs/stable/generated/pandas.DataFrame.shape.html) might be useful for calculating some of the summary results. "
   ]
  },
  {
   "cell_type": "markdown",
   "metadata": {},
   "source": [
    "### Provide a Basic Summary of the Data Set Using Python, Numpy and/or Pandas"
   ]
  },
  {
   "cell_type": "code",
   "execution_count": 5,
   "metadata": {
    "collapsed": false
   },
   "outputs": [
    {
     "name": "stdout",
     "output_type": "stream",
     "text": [
      "Number of training examples = 34799\n",
      "Number of testing examples = 12630\n",
      "Image data shape = [32 32]\n",
      "Number of classes = 43\n"
     ]
    }
   ],
   "source": [
    "### Replace each question mark with the appropriate value. \n",
    "### Use python, pandas or numpy methods rather than hard coding the results\n",
    "import pandas\n",
    "import numpy\n",
    "\n",
    "# TODO: Number of training examples\n",
    "n_train = len(train_features)\n",
    "\n",
    "# TODO: Number of testing examples.\n",
    "n_test = len(test_features)\n",
    "\n",
    "# TODO: What's the shape of an traffic sign image?\n",
    "image_shape = numpy.asarray(numpy.array(train_features).shape)[1:3:1]\n",
    "\n",
    "# TODO: How many unique classes/labels there are in the dataset.\n",
    "n_classes = len(numpy.unique(train_labels))\n",
    "\n",
    "print(\"Number of training examples =\", n_train)\n",
    "print(\"Number of testing examples =\", n_test)\n",
    "print(\"Image data shape =\", image_shape)\n",
    "print(\"Number of classes =\", n_classes)"
   ]
  },
  {
   "cell_type": "markdown",
   "metadata": {},
   "source": [
    "### Include an exploratory visualization of the dataset"
   ]
  },
  {
   "cell_type": "markdown",
   "metadata": {},
   "source": [
    "Visualize the German Traffic Signs Dataset using the pickled file(s). This is open ended, suggestions include: plotting traffic sign images, plotting the count of each sign, etc.\n",
    "\n",
    "The [Matplotlib](http://matplotlib.org/) [examples](http://matplotlib.org/examples/index.html) and [gallery](http://matplotlib.org/gallery.html) pages are a great resource for doing visualizations in Python.\n",
    "\n",
    "**NOTE:** It's recommended you start with something simple first. If you wish to do more, come back to it after you've completed the rest of the sections."
   ]
  },
  {
   "cell_type": "code",
   "execution_count": 8,
   "metadata": {
    "collapsed": false
   },
   "outputs": [
    {
     "data": {
      "text/plain": [
       "<matplotlib.image.AxesImage at 0x7ff017c0a198>"
      ]
     },
     "execution_count": 8,
     "metadata": {},
     "output_type": "execute_result"
    },
    {
     "data": {
      "image/png": "[encoded data removed]",
      "text/plain": [
       "<matplotlib.figure.Figure at 0x7ff047908f60>"
      ]
     },
     "metadata": {},
     "output_type": "display_data"
    },
    {
     "name": "stderr",
     "output_type": "stream",
     "text": [
      "\r",
      "          \r",
      " 39%|███▊      | 9576/24799 [01:10<01:51, 136.54it/s]"
     ]
    }
   ],
   "source": [
    "### Data exploration visualization code goes here.\n",
    "### Feel free to use as many code cells as needed.\n",
    "import matplotlib.pyplot as plt\n",
    "import cv2\n",
    "import math\n",
    "from tqdm import *\n",
    "\n",
    "# Visualizations will be shown in the notebook.\n",
    "%matplotlib inline\n",
    "\n",
    "#retrieve data in 4-d array from dataset,and construct and return an 3-d array representing an image\n",
    "def reshapeImagesFromDataset(dataset, start=0, end=0, image_shape=image_shape):\n",
    "    return dataset[start:end]\n",
    "\n",
    "def displayImages(imageset):\n",
    "    for num in range(0, len(imageset)):\n",
    "        plt.figure()\n",
    "        plt.imshow(imageset[num])\n",
    "\n",
    "def regionOfInterest(img, vertices):\n",
    "    mask = numpy.zeros_like(img)   \n",
    "    if len(img.shape) > 2:\n",
    "        channel_count = img.shape[2]  # i.e. 3 or 4 depending on your image\n",
    "        ignore_mask_color = (255,) * channel_count\n",
    "    else:\n",
    "        ignore_mask_color = 255\n",
    "    cv2.fillPoly(mask, vertices, ignore_mask_color)\n",
    "    masked_image = cv2.bitwise_and(img, mask)\n",
    "    return masked_image\n",
    "\n",
    "def verticesFromDatasets(coords, sizes, num, image_shape=image_shape):\n",
    "    result = []\n",
    "    width, height = sizes[num][0], sizes[num][1]\n",
    "    x1,y1,x2,y2 = coords[num][0], coords[num][1], coords[num][2], coords[num][3]\n",
    "    x_ratio, y_ratio = image_shape[0]/width, image_shape[1]/height\n",
    "    result.append((math.ceil(x1*x_ratio),math.ceil(y1*y_ratio)))\n",
    "    result.append((math.ceil(x2*x_ratio), math.ceil(y1*y_ratio)))\n",
    "    result.append((math.ceil(x2*x_ratio), math.ceil(y2*y_ratio)))\n",
    "    result.append((math.ceil(x1*x_ratio), math.ceil(y2*y_ratio)))\n",
    "    return result\n",
    "  \n",
    "def maskedImagesFromDatasets(features, sizes, coords, start, end, image_shape=image_shape):\n",
    "    masked_images=[]\n",
    "    images = numpy.array(reshapeImagesFromDataset(features, start, end, image_shape))\n",
    "    for num in tqdm(range(0, len(images))):\n",
    "        opencvImage = cv2.cvtColor(images[num], cv2.COLOR_RGB2BGR)\n",
    "        masked_images.append(regionOfInterest(opencvImage, numpy.array([verticesFromDatasets(coords, sizes, num+start)])))\n",
    "    return masked_images\n",
    "#test\n",
    "img = numpy.array(reshapeImagesFromDataset(train_features,1000,1020)[0])\n",
    "opencvImage = cv2.cvtColor(numpy.array(img), cv2.COLOR_RGB2BGR)\n",
    "plt.imshow(regionOfInterest(opencvImage, numpy.array([verticesFromDatasets(train_coords,train_sizes,0)])))"
   ]
  },
  {
   "cell_type": "markdown",
   "metadata": {},
   "source": [
    "----\n",
    "\n",
    "## Step 2: Design and Test a Model Architecture\n",
    "\n",
    "Design and implement a deep learning model that learns to recognize traffic signs. Train and test your model on the [German Traffic Sign Dataset](http://benchmark.ini.rub.de/?section=gtsrb&subsection=dataset).\n",
    "\n",
    "There are various aspects to consider when thinking about this problem:\n",
    "\n",
    "- Neural network architecture\n",
    "- Play around preprocessing techniques (normalization, rgb to grayscale, etc)\n",
    "- Number of examples per label (some have more than others).\n",
    "- Generate fake data.\n",
    "\n",
    "Here is an example of a [published baseline model on this problem](http://yann.lecun.com/exdb/publis/pdf/sermanet-ijcnn-11.pdf). It's not required to be familiar with the approach used in the paper but, it's good practice to try to read papers like these.\n",
    "\n",
    "**NOTE:** The LeNet-5 implementation shown in the [classroom](https://classroom.udacity.com/nanodegrees/nd013/parts/fbf77062-5703-404e-b60c-95b78b2f3f9e/modules/6df7ae49-c61c-4bb2-a23e-6527e69209ec/lessons/601ae704-1035-4287-8b11-e2c2716217ad/concepts/d4aca031-508f-4e0b-b493-e7b706120f81) at the end of the CNN lesson is a solid starting point. You'll have to change the number of classes and possibly the preprocessing, but aside from that it's plug and play!"
   ]
  },
  {
   "cell_type": "markdown",
   "metadata": {},
   "source": [
    "### Pre-process the Data Set (normalization, grayscale, etc.)"
   ]
  },
  {
   "cell_type": "markdown",
   "metadata": {},
   "source": [
    "Use the code cell (or multiple code cells, if necessary) to implement the first step of your project."
   ]
  },
  {
   "cell_type": "code",
   "execution_count": 9,
   "metadata": {
    "collapsed": false,
    "scrolled": true
   },
   "outputs": [
    {
     "name": "stderr",
     "output_type": "stream",
     "text": [
      "\n",
      "  0%|          | 0/24799 [00:00<?, ?it/s]\u001b[A\n",
      "  6%|▌         | 1542/24799 [00:00<00:01, 15417.04it/s]"
     ]
    },
    {
     "name": "stdout",
     "output_type": "stream",
     "text": [
      "maskedImagesFromDatasets...\n"
     ]
    },
    {
     "name": "stderr",
     "output_type": "stream",
     "text": [
      "\u001b[A\n",
      " 12%|█▏        | 2915/24799 [00:00<00:01, 14854.17it/s]\u001b[A\n",
      " 18%|█▊        | 4499/24799 [00:00<00:01, 15134.72it/s]\u001b[A\n",
      " 24%|██▍       | 6047/24799 [00:00<00:01, 15224.08it/s]\u001b[A\n",
      " 31%|███       | 7668/24799 [00:00<00:01, 15506.34it/s]\u001b[A\n",
      " 36%|███▌      | 8964/24799 [00:00<00:01, 13576.44it/s]\u001b[A\n",
      " 42%|████▏     | 10351/24799 [00:00<00:01, 13662.94it/s]\u001b[A\n",
      " 48%|████▊     | 11884/24799 [00:00<00:00, 14122.84it/s]\u001b[A\n",
      " 55%|█████▍    | 13520/24799 [00:00<00:00, 14725.98it/s]\u001b[A\n",
      " 61%|██████    | 15041/24799 [00:01<00:00, 14865.16it/s]\u001b[A\n",
      " 67%|██████▋   | 16644/24799 [00:01<00:00, 15194.81it/s]\u001b[A\n",
      " 73%|███████▎  | 18148/24799 [00:01<00:00, 14963.23it/s]\u001b[A\n",
      " 79%|███████▉  | 19640/24799 [00:01<00:00, 14947.59it/s]\u001b[A\n",
      " 85%|████████▌ | 21128/24799 [00:01<00:00, 14010.09it/s]\u001b[A\n",
      " 91%|█████████ | 22536/24799 [00:01<00:00, 13512.88it/s]\u001b[A\n",
      " 96%|█████████▋| 23896/24799 [00:01<00:00, 13172.14it/s]\u001b[A\n",
      "100%|██████████| 24799/24799 [00:01<00:00, 14249.21it/s]\u001b[A\n",
      "  0%|          | 0/24799 [00:00<?, ?it/s]\u001b[A\n",
      "  0%|          | 1/24799 [00:00<58:39,  7.05it/s]\u001b[A"
     ]
    },
    {
     "name": "stdout",
     "output_type": "stream",
     "text": [
      "grayScaleImage & normalization...\n"
     ]
    },
    {
     "name": "stderr",
     "output_type": "stream",
     "text": [
      "\n",
      "  0%|          | 8/24799 [00:00<42:56,  9.62it/s]\u001b[A\n",
      "  0%|          | 24/24799 [00:00<30:54, 13.36it/s]\u001b[A\n",
      "  0%|          | 38/24799 [00:00<22:37, 18.23it/s]\u001b[A\n",
      "  0%|          | 46/24799 [00:00<17:41, 23.32it/s]\u001b[A\n",
      "  0%|          | 55/24799 [00:00<13:45, 29.96it/s]\u001b[A\n",
      "  0%|          | 71/24799 [00:00<10:25, 39.51it/s]\u001b[A\n",
      "  0%|          | 82/24799 [00:00<09:09, 45.02it/s]\u001b[A\n",
      "  0%|          | 92/24799 [00:01<07:55, 51.97it/s]\u001b[A\n",
      "  0%|          | 107/24799 [00:01<06:24, 64.21it/s]\u001b[A\n",
      "  0%|          | 122/24799 [00:01<05:19, 77.28it/s]\u001b[A\n",
      "  1%|          | 138/24799 [00:01<04:36, 89.15it/s]\u001b[A\n",
      "  1%|          | 152/24799 [00:01<04:10, 98.44it/s]\u001b[A\n",
      "  1%|          | 166/24799 [00:01<03:53, 105.32it/s]\u001b[A\n",
      "  1%|          | 179/24799 [00:01<04:33, 89.96it/s] \u001b[A\n",
      "  1%|          | 190/24799 [00:01<04:23, 93.32it/s]\u001b[A\n",
      "  1%|          | 206/24799 [00:02<03:53, 105.40it/s]\u001b[A\n",
      "  1%|          | 220/24799 [00:02<03:35, 113.82it/s]\u001b[A\n",
      "  1%|          | 236/24799 [00:02<03:18, 123.51it/s]\u001b[A\n",
      "  1%|          | 253/24799 [00:02<03:02, 134.32it/s]\u001b[A\n",
      "  1%|          | 271/24799 [00:02<02:53, 141.02it/s]\u001b[A\n",
      "  1%|          | 289/24799 [00:02<02:47, 146.58it/s]\u001b[A\n",
      "  1%|          | 305/24799 [00:02<02:50, 143.54it/s]\u001b[A\n",
      "  1%|▏         | 322/24799 [00:02<02:43, 149.34it/s]\u001b[A\n",
      "  1%|▏         | 338/24799 [00:02<02:44, 148.73it/s]\u001b[A\n",
      "  1%|▏         | 355/24799 [00:02<02:38, 153.93it/s]\u001b[A\n",
      "  2%|▏         | 374/24799 [00:03<02:31, 160.76it/s]\u001b[A\n",
      "  2%|▏         | 391/24799 [00:03<02:30, 162.18it/s]\u001b[A\n",
      "100%|██████████| 24799/24799 [02:51<00:00, 144.30it/s]\n",
      " 32%|███▏      | 1408/4410 [00:00<00:00, 14070.65it/s]"
     ]
    },
    {
     "name": "stdout",
     "output_type": "stream",
     "text": [
      "Task:train_features_gray is completed\n",
      "\n",
      "maskedImagesFromDatasets...\n"
     ]
    },
    {
     "name": "stderr",
     "output_type": "stream",
     "text": [
      "100%|██████████| 4410/4410 [00:00<00:00, 13102.70it/s]\n",
      "  0%|          | 0/4410 [00:00<?, ?it/s]"
     ]
    },
    {
     "name": "stdout",
     "output_type": "stream",
     "text": [
      "grayScaleImage & normalization...\n"
     ]
    },
    {
     "name": "stderr",
     "output_type": "stream",
     "text": [
      "100%|██████████| 4410/4410 [00:29<00:00, 148.50it/s]\n",
      " 13%|█▎        | 1701/12630 [00:00<00:00, 17001.14it/s]"
     ]
    },
    {
     "name": "stdout",
     "output_type": "stream",
     "text": [
      "Task:valid_features_gray is completed\n",
      "\n",
      "maskedImagesFromDatasets...\n"
     ]
    },
    {
     "name": "stderr",
     "output_type": "stream",
     "text": [
      "100%|██████████| 12630/12630 [00:00<00:00, 16271.81it/s]\n",
      "  0%|          | 0/12630 [00:00<?, ?it/s]"
     ]
    },
    {
     "name": "stdout",
     "output_type": "stream",
     "text": [
      "grayScaleImage & normalization...\n"
     ]
    },
    {
     "name": "stderr",
     "output_type": "stream",
     "text": [
      "100%|██████████| 12630/12630 [01:18<00:00, 160.36it/s]\n",
      "100%|██████████| 1/1 [00:00<00:00, 2794.34it/s]\n"
     ]
    },
    {
     "name": "stdout",
     "output_type": "stream",
     "text": [
      "Task:test_features_gray is completed\n",
      "\n",
      "Task:train_labels_43 is completed\n",
      "\n",
      "Task:valid_labels_43 is completed\n",
      "\n",
      "Task:test_labels_43 is completed\n",
      "\n",
      "-1.0\n"
     ]
    },
    {
     "data": {
      "image/png": "[encoded data removed]",
      "text/plain": [
       "<matplotlib.figure.Figure at 0x7ff0703bf5c0>"
      ]
     },
     "metadata": {},
     "output_type": "display_data"
    }
   ],
   "source": [
    "### Preprocess the data here. Preprocessing steps could include normalization, converting to grayscale, etc.\n",
    "### Feel free to use as many code cells as needed.\n",
    "from tqdm import *\n",
    "import gc\n",
    "\n",
    "# convert from a three channel color pixel into one channel gray pixel\n",
    "# e.g. input: [24, 36, 80] => [gray-scaled-value]\n",
    "def rgb2gray(rgb):\n",
    "    return numpy.dot(rgb[...,:3], [0.299, 0.587, 0.114])\n",
    "            \n",
    "def grayScaleImage(image, image_shape=image_shape):\n",
    "    result_image = []\n",
    "    for x in range(0, image_shape[0]):\n",
    "        column = []\n",
    "        for y in range(0, image_shape[1]):\n",
    "            column.append(rgb2gray(numpy.array(image[x][y])).tolist())\n",
    "        result_image.append(column)\n",
    "    image = result_image\n",
    "    return image\n",
    "\n",
    "# divide difference between value of a pixal and half of maximum value achievable of a pixal by half of maximum value achievable of a pixal\n",
    "# input: image,which is one channel gray scale image\n",
    "def normalizeImage(image, image_shape=image_shape):\n",
    "    result_image = []\n",
    "    for x in range(0, image_shape[0]):\n",
    "        column = []\n",
    "        for y in range(0, image_shape[1]):\n",
    "            column.append((image[x][y]-128)/128)\n",
    "        result_image.append(column)\n",
    "    image = result_image\n",
    "    return image\n",
    "\n",
    "# convert 2-d grayscale image to 3-d array with format:\n",
    "# [x][y][channel] i.e. [31][31][0]\n",
    "def reshapeGrayScaleImage(image, image_shape=image_shape):\n",
    "    result_image = []\n",
    "    for x in range(0, image_shape[0]):\n",
    "        column = []\n",
    "        for y in range(0, image_shape[1]):\n",
    "            temp = []\n",
    "            temp.append(image[x][y])\n",
    "            column.append(temp)\n",
    "        result_image.append(column)\n",
    "    image = result_image\n",
    "    return image\n",
    "\n",
    "# convert 2-d grayscale image to 1-d array\n",
    "def reshapeGrayScaleImage2(image, image_shape=image_shape):\n",
    "    result_array = []\n",
    "    for x in range(0, image_shape[0]):\n",
    "        for y in range(0, image_shape[1]):\n",
    "            result_array.append(image[x][y])\n",
    "    image=result_array\n",
    "    return image\n",
    "\n",
    "# calling functions in sequence: maskedImagesFromDatasets->grayScaleImage->normalizeImage->reshapeGrayScaleImage2\n",
    "def prepareImages(features, sizes, coords, start=0, end=0):\n",
    "    prepared_images=[]\n",
    "    print(\"maskedImagesFromDatasets...\")\n",
    "    temp = maskedImagesFromDatasets(features, sizes, coords, start, end, image_shape)\n",
    "    print(\"grayScaleImage & normalization...\")\n",
    "    for num in tqdm(range(0, end-start)):\n",
    "        result1 = grayScaleImage(temp[num])\n",
    "        result2 = normalizeImage(result1)\n",
    "        result3 = reshapeGrayScaleImage2(result2)\n",
    "        if num%10000 == 0:\n",
    "            gc.collect()\n",
    "        prepared_images.append(result3)\n",
    "    return prepared_images\n",
    "\n",
    "# return a 2d-array with inner arrays,each one of arrays is assigned with zero value of desired length \n",
    "# except the dedicated position of the array is assigned with value of one\n",
    "def preparelabels(dataset, length):\n",
    "    result = []\n",
    "    for num in range(0,len(dataset)):\n",
    "        #print(dataset[num])\n",
    "        temp = numpy.zeros(length)\n",
    "        temp[dataset[num]] = 1\n",
    "        result.append(temp)\n",
    "    #result = numpy.reshape(result, (-1, 43))\n",
    "    return result\n",
    "\n",
    "# prepared data\n",
    "train_features_gray = prepareImages(train_features,train_sizes,train_coords, 0, n_train-10000)\n",
    "print(\"Task:train_features_gray is completed\")\n",
    "print()\n",
    "valid_features_gray = prepareImages(valid_features,valid_sizes,valid_coords, 0, len(valid_features))\n",
    "print(\"Task:valid_features_gray is completed\")\n",
    "print()\n",
    "test_features_gray = prepareImages(test_features,test_sizes,test_coords, 0, n_test)\n",
    "print(\"Task:test_features_gray is completed\")\n",
    "print()\n",
    "train_labels_43 = preparelabels(train_labels, 43)\n",
    "print(\"Task:train_labels_43 is completed\")\n",
    "print()\n",
    "valid_labels_43 = preparelabels(valid_labels, 43)\n",
    "print(\"Task:valid_labels_43 is completed\")\n",
    "print()\n",
    "test_labels_43 = preparelabels(test_labels, 43)\n",
    "print(\"Task:test_labels_43 is completed\")\n",
    "print()\n",
    "\n",
    "# test code\n",
    "img = maskedImagesFromDatasets(train_features,train_sizes,train_coords, 0 , 1)\n",
    "test = grayScaleImage(img[0])\n",
    "plt.imshow(test)\n",
    "test2 = reshapeGrayScaleImage(normalizeImage(test))\n",
    "print(test2[31][31][0])"
   ]
  },
  {
   "cell_type": "markdown",
   "metadata": {},
   "source": [
    "### Model Architecture"
   ]
  },
  {
   "cell_type": "code",
   "execution_count": 24,
   "metadata": {
    "collapsed": false
   },
   "outputs": [],
   "source": [
    "### Define your architecture here.\n",
    "### Feel free to use as many code cells as needed.\n",
    "import tensorflow as tf\n",
    "x = tf.placeholder(tf.float32, (None, image_shape[0] * image_shape[1]))\n",
    "y = tf.placeholder(tf.int32, (None, n_classes))\n",
    "#one_hot_y = tf.one_hot(y, n_classes)\n",
    "keep_prob = tf.placeholder(tf.float32)\n",
    "\n",
    "def convNet(x, weight, biases, dropout):\n",
    "    # Reshape from 2D to 4D. This prepares the data for\n",
    "    # convolutional and pooling layers.\n",
    "    x = tf.reshape(x, (-1, image_shape[0], image_shape[1], 1))\n",
    "    \n",
    "    # Convolution Layer\n",
    "    conv1 = conv2d(x, weights['wc1'], biases['bc1'])\n",
    "    # Max Pooling (down-sampling)\n",
    "    conv1 = maxpool2d(conv1, k=2)\n",
    "    \n",
    "    # Convolution Layer\n",
    "    conv2 = conv2d(conv1, weights['wc2'], biases['bc2'])\n",
    "    # Max Pooling (down-sampling)\n",
    "    conv2 = maxpool2d(conv2, k=2)\n",
    "    \n",
    "    # Fully connected layer\n",
    "    # Reshape conv2 output to fit fully connected layer input\n",
    "    fc1 = tf.reshape(conv2, [-1, weights['wd1'].get_shape().as_list()[0]])\n",
    "    fc1 = tf.add(tf.matmul(fc1, weights['wd1']), biases['bd1'])\n",
    "    fc1 = tf.nn.relu(fc1)\n",
    "    fc1 = tf.nn.dropout(fc1, dropout)\n",
    "    #fc2 = tf.add(tf.matmul(fc2, weights['wd2']), biases['bd2'])\n",
    "    #fc2 = tf.nn.relu(fc2)\n",
    "    #fc3 = tf.reshape(fc2, [-1, weights['wd3'].get_shape().as_list()[0]])\n",
    "    #fc3 = tf.add(tf.matmul(fc3, weights['wd3']), biases['bd3'])\n",
    "    #fc3 = tf.nn.relu(fc3)\n",
    "    # Apply Dropout\n",
    "    #fc3 = tf.nn.dropout(fc3, dropout)\n",
    "    \n",
    "    # Output, class prediction\n",
    "    out = tf.add(tf.matmul(fc1, weights['out']), biases['out'])\n",
    "    \n",
    "    return out\n",
    "\n",
    "# Create some wrappers for simplicity\n",
    "def conv2d(x, W, b, strides=1):\n",
    "    # Conv2D wrapper, with bias and relu activation\n",
    "    x = tf.nn.conv2d(x, W, strides=[1, strides, strides, 1], padding='SAME')\n",
    "    x = tf.nn.bias_add(x, b)\n",
    "    return tf.nn.relu(x)\n",
    "\n",
    "\n",
    "def maxpool2d(x, k=2):\n",
    "    # MaxPool2D wrapper\n",
    "    return tf.nn.max_pool(x, ksize=[1, k, k, 1], strides=[1, k, k, 1],\n",
    "                          padding='SAME')\n",
    "\n",
    "\n",
    "# Store layers weight & bias\n",
    "weights = {\n",
    "    # 5x5 conv, 1 input, 32 outputs\n",
    "    'wc1': tf.Variable(tf.random_normal([5, 5, 1, 32])),\n",
    "    # 5x5 conv, 32 inputs, 64 outputs\n",
    "    'wc2': tf.Variable(tf.random_normal([5, 5, 32, 64])),\n",
    "    # fully connected, 8*8*64 inputs, 1024 outputs\n",
    "    'wd1': tf.Variable(tf.random_normal([8*8*64, 1024])),\n",
    "    # 1024 inputs, 10 outputs (class prediction)\n",
    "    'out': tf.Variable(tf.random_normal([1024, n_classes]))\n",
    "}\n",
    "\n",
    "biases = {\n",
    "    'bc1': tf.Variable(tf.truncated_normal([32])),\n",
    "    'bc2': tf.Variable(tf.truncated_normal([64])),\n",
    "    'bd1': tf.Variable(tf.truncated_normal([1024])),\n",
    "    'out': tf.Variable(tf.truncated_normal([n_classes]))\n",
    "}\n",
    "\n",
    "pred = convNet(x, weights, biases, keep_prob)\n",
    "#Define loss and optimization\n",
    "cost = tf.reduce_mean(tf.nn.softmax_cross_entropy_with_logits(logits=pred,labels=y))\n",
    "learning_rate = 0.0000001\n",
    "opt = tf.train.GradientDescentOptimizer(learning_rate=learning_rate)\n",
    "train_op = opt.minimize(cost)\n",
    "\n",
    "# Evaluate model\n",
    "correct_prediction = tf.equal(tf.argmax(pred, 1), tf.argmax(y, 1))\n",
    "accuracy_op = tf.reduce_mean(tf.cast(correct_prediction, tf.float32))"
   ]
  },
  {
   "cell_type": "markdown",
   "metadata": {},
   "source": [
    "### Train, Validate and Test the Model"
   ]
  },
  {
   "cell_type": "markdown",
   "metadata": {},
   "source": [
    "A validation set can be used to assess how well the model is performing. A low accuracy on the training and validation\n",
    "sets imply underfitting. A high accuracy on the training set but low accuracy on the validation set implies overfitting."
   ]
  },
  {
   "cell_type": "code",
   "execution_count": 25,
   "metadata": {
    "collapsed": false,
    "scrolled": true
   },
   "outputs": [
    {
     "name": "stderr",
     "output_type": "stream",
     "text": [
      "\n",
      "  0%|          | 0/10 [00:00<?, ?it/s]\u001b[A"
     ]
    },
    {
     "name": "stdout",
     "output_type": "stream",
     "text": [
      "EPOCHS 0\n"
     ]
    },
    {
     "name": "stderr",
     "output_type": "stream",
     "text": [
      "\n"
     ]
    },
    {
     "name": "stdout",
     "output_type": "stream",
     "text": [
      "Iter 1200, Minibatch Loss= 134961.515625, Training Accuracy= 0.03039\n",
      "Iter 2400, Minibatch Loss= 131374.171875, Training Accuracy= 0.02925\n",
      "Iter 3600, Minibatch Loss= 127754.648438, Training Accuracy= 0.03016\n",
      "Iter 4800, Minibatch Loss= 125060.195312, Training Accuracy= 0.03107\n",
      "Iter 6000, Minibatch Loss= 123475.312500, Training Accuracy= 0.03220\n",
      "Iter 7200, Minibatch Loss= 121334.093750, Training Accuracy= 0.03923\n",
      "Iter 8400, Minibatch Loss= 116684.562500, Training Accuracy= 0.04286\n",
      "Iter 9600, Minibatch Loss= 113537.617188, Training Accuracy= 0.04286\n",
      "Iter 10800, Minibatch Loss= 111943.500000, Training Accuracy= 0.04059\n",
      "Iter 12000, Minibatch Loss= 110156.187500, Training Accuracy= 0.04104\n",
      "Iter 13200, Minibatch Loss= 107634.929688, Training Accuracy= 0.04127\n",
      "Iter 14400, Minibatch Loss= 105460.007812, Training Accuracy= 0.04172\n",
      "Iter 15600, Minibatch Loss= 104768.875000, Training Accuracy= 0.03741\n",
      "Iter 16800, Minibatch Loss= 103528.632812, Training Accuracy= 0.03719\n",
      "Iter 18000, Minibatch Loss= 102305.390625, Training Accuracy= 0.04853\n",
      "Iter 19200, Minibatch Loss= 103303.781250, Training Accuracy= 0.04989\n",
      "Iter 20400, Minibatch Loss= 101809.515625, Training Accuracy= 0.04943\n",
      "Iter 21600, Minibatch Loss= 100344.476562, Training Accuracy= 0.05102\n",
      "Iter 22800, Minibatch Loss= 98476.187500, Training Accuracy= 0.05079\n",
      "Iter 24000, Minibatch Loss= 96692.320312, Training Accuracy= 0.05125\n"
     ]
    },
    {
     "name": "stderr",
     "output_type": "stream",
     "text": [
      "\r",
      " 10%|█         | 1/10 [04:45<42:49, 285.53s/it]"
     ]
    },
    {
     "name": "stdout",
     "output_type": "stream",
     "text": [
      "EPOCHS 1\n",
      "Iter 1200, Minibatch Loss= 94010.179688, Training Accuracy= 0.05215\n",
      "Iter 2400, Minibatch Loss= 92466.359375, Training Accuracy= 0.05329\n",
      "Iter 3600, Minibatch Loss= 93229.851562, Training Accuracy= 0.04603\n",
      "Iter 4800, Minibatch Loss= 93397.890625, Training Accuracy= 0.04376\n",
      "Iter 6000, Minibatch Loss= 91837.046875, Training Accuracy= 0.04331\n",
      "Iter 7200, Minibatch Loss= 90897.492188, Training Accuracy= 0.04626\n",
      "Iter 8400, Minibatch Loss= 89637.679688, Training Accuracy= 0.04263\n",
      "Iter 9600, Minibatch Loss= 87898.046875, Training Accuracy= 0.04286\n",
      "Iter 10800, Minibatch Loss= 87158.671875, Training Accuracy= 0.04399\n",
      "Iter 12000, Minibatch Loss= 85869.914062, Training Accuracy= 0.04444\n",
      "Iter 13200, Minibatch Loss= 84984.289062, Training Accuracy= 0.04376\n",
      "Iter 14400, Minibatch Loss= 84254.593750, Training Accuracy= 0.04218\n",
      "Iter 15600, Minibatch Loss= 83599.132812, Training Accuracy= 0.04172\n",
      "Iter 16800, Minibatch Loss= 83074.828125, Training Accuracy= 0.03855\n",
      "Iter 18000, Minibatch Loss= 83133.859375, Training Accuracy= 0.04512\n",
      "Iter 19200, Minibatch Loss= 84404.281250, Training Accuracy= 0.05850\n",
      "Iter 20400, Minibatch Loss= 83464.335938, Training Accuracy= 0.05760\n",
      "Iter 21600, Minibatch Loss= 82356.515625, Training Accuracy= 0.05760\n",
      "Iter 22800, Minibatch Loss= 81249.031250, Training Accuracy= 0.05782\n",
      "Iter 24000, Minibatch Loss= 80232.359375, Training Accuracy= 0.05737\n"
     ]
    },
    {
     "name": "stderr",
     "output_type": "stream",
     "text": [
      "\r",
      " 20%|██        | 2/10 [09:40<38:26, 288.27s/it]"
     ]
    },
    {
     "name": "stdout",
     "output_type": "stream",
     "text": [
      "EPOCHS 2\n",
      "Iter 1200, Minibatch Loss= 78462.078125, Training Accuracy= 0.05442\n",
      "Iter 2400, Minibatch Loss= 77780.734375, Training Accuracy= 0.05306\n",
      "Iter 3600, Minibatch Loss= 79577.554688, Training Accuracy= 0.04626\n",
      "Iter 4800, Minibatch Loss= 79979.343750, Training Accuracy= 0.04649\n",
      "Iter 6000, Minibatch Loss= 78616.750000, Training Accuracy= 0.04649\n",
      "Iter 7200, Minibatch Loss= 77715.750000, Training Accuracy= 0.04444\n",
      "Iter 8400, Minibatch Loss= 77022.046875, Training Accuracy= 0.04467\n",
      "Iter 9600, Minibatch Loss= 75533.414062, Training Accuracy= 0.04331\n",
      "Iter 10800, Minibatch Loss= 74904.546875, Training Accuracy= 0.04308\n",
      "Iter 12000, Minibatch Loss= 73670.085938, Training Accuracy= 0.04286\n",
      "Iter 13200, Minibatch Loss= 73196.710938, Training Accuracy= 0.04286\n",
      "Iter 14400, Minibatch Loss= 72924.437500, Training Accuracy= 0.04286\n",
      "Iter 15600, Minibatch Loss= 72284.648438, Training Accuracy= 0.04127\n",
      "Iter 16800, Minibatch Loss= 71763.960938, Training Accuracy= 0.03900\n",
      "Iter 18000, Minibatch Loss= 72199.773438, Training Accuracy= 0.04263\n",
      "Iter 19200, Minibatch Loss= 73244.828125, Training Accuracy= 0.05465\n",
      "Iter 20400, Minibatch Loss= 72544.109375, Training Accuracy= 0.05488\n",
      "Iter 21600, Minibatch Loss= 71682.132812, Training Accuracy= 0.05578\n",
      "Iter 22800, Minibatch Loss= 70901.664062, Training Accuracy= 0.05351\n",
      "Iter 24000, Minibatch Loss= 70396.539062, Training Accuracy= 0.05442\n"
     ]
    },
    {
     "name": "stderr",
     "output_type": "stream",
     "text": [
      "\r",
      " 30%|███       | 3/10 [14:33<33:48, 289.82s/it]"
     ]
    },
    {
     "name": "stdout",
     "output_type": "stream",
     "text": [
      "EPOCHS 3\n",
      "Iter 1200, Minibatch Loss= 68935.687500, Training Accuracy= 0.05306\n",
      "Iter 2400, Minibatch Loss= 68704.132812, Training Accuracy= 0.05238\n",
      "Iter 3600, Minibatch Loss= 70611.679688, Training Accuracy= 0.04898\n",
      "Iter 4800, Minibatch Loss= 71096.820312, Training Accuracy= 0.04785\n",
      "Iter 6000, Minibatch Loss= 69916.054688, Training Accuracy= 0.04830\n",
      "Iter 7200, Minibatch Loss= 69010.757812, Training Accuracy= 0.04671\n",
      "Iter 8400, Minibatch Loss= 68150.500000, Training Accuracy= 0.04603\n",
      "Iter 9600, Minibatch Loss= 66842.468750, Training Accuracy= 0.04422\n",
      "Iter 10800, Minibatch Loss= 66349.523438, Training Accuracy= 0.04444\n",
      "Iter 12000, Minibatch Loss= 65307.945312, Training Accuracy= 0.04286\n",
      "Iter 13200, Minibatch Loss= 65118.765625, Training Accuracy= 0.04354\n",
      "Iter 14400, Minibatch Loss= 65083.429688, Training Accuracy= 0.04308\n",
      "Iter 15600, Minibatch Loss= 64567.820312, Training Accuracy= 0.04172\n",
      "Iter 16800, Minibatch Loss= 64215.617188, Training Accuracy= 0.03968\n",
      "Iter 18000, Minibatch Loss= 64877.082031, Training Accuracy= 0.04150\n",
      "Iter 19200, Minibatch Loss= 65856.492188, Training Accuracy= 0.05465\n",
      "Iter 20400, Minibatch Loss= 65295.011719, Training Accuracy= 0.05488\n",
      "Iter 21600, Minibatch Loss= 64568.996094, Training Accuracy= 0.05578\n",
      "Iter 22800, Minibatch Loss= 64072.156250, Training Accuracy= 0.05374\n",
      "Iter 24000, Minibatch Loss= 63836.328125, Training Accuracy= 0.05442\n"
     ]
    },
    {
     "name": "stderr",
     "output_type": "stream",
     "text": [
      "\r",
      " 40%|████      | 4/10 [19:25<29:02, 290.46s/it]"
     ]
    },
    {
     "name": "stdout",
     "output_type": "stream",
     "text": [
      "EPOCHS 4\n",
      "Iter 1200, Minibatch Loss= 62504.894531, Training Accuracy= 0.05351\n",
      "Iter 2400, Minibatch Loss= 62283.050781, Training Accuracy= 0.05170\n",
      "Iter 3600, Minibatch Loss= 63947.777344, Training Accuracy= 0.04739\n",
      "Iter 4800, Minibatch Loss= 64418.910156, Training Accuracy= 0.04807\n",
      "Iter 6000, Minibatch Loss= 63360.863281, Training Accuracy= 0.04717\n",
      "Iter 7200, Minibatch Loss= 62516.152344, Training Accuracy= 0.04626\n",
      "Iter 8400, Minibatch Loss= 61891.757812, Training Accuracy= 0.04603\n",
      "Iter 9600, Minibatch Loss= 60818.625000, Training Accuracy= 0.04580\n",
      "Iter 10800, Minibatch Loss= 60484.949219, Training Accuracy= 0.04558\n",
      "Iter 12000, Minibatch Loss= 59628.507812, Training Accuracy= 0.04422\n",
      "Iter 13200, Minibatch Loss= 59574.761719, Training Accuracy= 0.04399\n",
      "Iter 14400, Minibatch Loss= 59599.167969, Training Accuracy= 0.04399\n",
      "Iter 15600, Minibatch Loss= 59094.289062, Training Accuracy= 0.04308\n",
      "Iter 16800, Minibatch Loss= 58897.390625, Training Accuracy= 0.04036\n",
      "Iter 18000, Minibatch Loss= 59446.769531, Training Accuracy= 0.04354\n",
      "Iter 19200, Minibatch Loss= 60411.957031, Training Accuracy= 0.05420\n",
      "Iter 20400, Minibatch Loss= 60103.046875, Training Accuracy= 0.05420\n",
      "Iter 21600, Minibatch Loss= 59522.488281, Training Accuracy= 0.05465\n",
      "Iter 22800, Minibatch Loss= 59157.375000, Training Accuracy= 0.05193\n",
      "Iter 24000, Minibatch Loss= 58994.281250, Training Accuracy= 0.05238\n"
     ]
    },
    {
     "name": "stderr",
     "output_type": "stream",
     "text": [
      "\r",
      " 50%|█████     | 5/10 [24:34<24:40, 296.01s/it]"
     ]
    },
    {
     "name": "stdout",
     "output_type": "stream",
     "text": [
      "EPOCHS 5\n",
      "Iter 1200, Minibatch Loss= 57971.746094, Training Accuracy= 0.05079\n",
      "Iter 2400, Minibatch Loss= 57869.996094, Training Accuracy= 0.04989\n",
      "Iter 3600, Minibatch Loss= 59347.675781, Training Accuracy= 0.04762\n",
      "Iter 4800, Minibatch Loss= 59745.605469, Training Accuracy= 0.04717\n",
      "Iter 6000, Minibatch Loss= 58819.132812, Training Accuracy= 0.04739\n",
      "Iter 7200, Minibatch Loss= 58087.878906, Training Accuracy= 0.04626\n",
      "Iter 8400, Minibatch Loss= 57550.585938, Training Accuracy= 0.04626\n",
      "Iter 9600, Minibatch Loss= 56627.183594, Training Accuracy= 0.04512\n",
      "Iter 10800, Minibatch Loss= 56299.753906, Training Accuracy= 0.04467\n",
      "Iter 12000, Minibatch Loss= 55694.464844, Training Accuracy= 0.04376\n",
      "Iter 13200, Minibatch Loss= 55721.507812, Training Accuracy= 0.04331\n",
      "Iter 14400, Minibatch Loss= 55719.617188, Training Accuracy= 0.04331\n",
      "Iter 15600, Minibatch Loss= 55337.109375, Training Accuracy= 0.04104\n",
      "Iter 16800, Minibatch Loss= 55208.324219, Training Accuracy= 0.03946\n",
      "Iter 18000, Minibatch Loss= 55756.457031, Training Accuracy= 0.04422\n",
      "Iter 19200, Minibatch Loss= 56780.558594, Training Accuracy= 0.05964\n",
      "Iter 20400, Minibatch Loss= 56557.253906, Training Accuracy= 0.05964\n",
      "Iter 21600, Minibatch Loss= 56071.355469, Training Accuracy= 0.05918\n",
      "Iter 22800, Minibatch Loss= 55764.507812, Training Accuracy= 0.05737\n",
      "Iter 24000, Minibatch Loss= 55768.351562, Training Accuracy= 0.05306\n"
     ]
    },
    {
     "name": "stderr",
     "output_type": "stream",
     "text": [
      "\r",
      " 60%|██████    | 6/10 [29:32<19:46, 296.51s/it]"
     ]
    },
    {
     "name": "stdout",
     "output_type": "stream",
     "text": [
      "EPOCHS 6\n",
      "Iter 1200, Minibatch Loss= 54833.343750, Training Accuracy= 0.05351\n"
     ]
    },
    {
     "ename": "KeyboardInterrupt",
     "evalue": "",
     "output_type": "error",
     "traceback": [
      "\u001b[0;31m---------------------------------------------------------------------------\u001b[0m",
      "\u001b[0;31mKeyboardInterrupt\u001b[0m                         Traceback (most recent call last)",
      "\u001b[0;32m<ipython-input-25-685d7a6e702c>\u001b[0m in \u001b[0;36m<module>\u001b[0;34m()\u001b[0m\n\u001b[1;32m     20\u001b[0m             \u001b[0mbatch_y\u001b[0m \u001b[0;34m=\u001b[0m \u001b[0mtrain_labels_43\u001b[0m\u001b[0;34m[\u001b[0m\u001b[0;34m(\u001b[0m\u001b[0mstep\u001b[0m\u001b[0;34m-\u001b[0m\u001b[0;36m1\u001b[0m\u001b[0;34m)\u001b[0m\u001b[0;34m*\u001b[0m\u001b[0mbatch_size\u001b[0m\u001b[0;34m:\u001b[0m\u001b[0mstep\u001b[0m\u001b[0;34m*\u001b[0m\u001b[0mbatch_size\u001b[0m\u001b[0;34m]\u001b[0m\u001b[0;34m\u001b[0m\u001b[0m\n\u001b[1;32m     21\u001b[0m             \u001b[0;31m# Run optimization op (backprop)\u001b[0m\u001b[0;34m\u001b[0m\u001b[0;34m\u001b[0m\u001b[0m\n\u001b[0;32m---> 22\u001b[0;31m             \u001b[0msess\u001b[0m\u001b[0;34m.\u001b[0m\u001b[0mrun\u001b[0m\u001b[0;34m(\u001b[0m\u001b[0mtrain_op\u001b[0m\u001b[0;34m,\u001b[0m \u001b[0mfeed_dict\u001b[0m\u001b[0;34m=\u001b[0m\u001b[0;34m{\u001b[0m\u001b[0mx\u001b[0m\u001b[0;34m:\u001b[0m \u001b[0mbatch_x\u001b[0m\u001b[0;34m,\u001b[0m \u001b[0my\u001b[0m\u001b[0;34m:\u001b[0m \u001b[0mbatch_y\u001b[0m\u001b[0;34m,\u001b[0m \u001b[0mkeep_prob\u001b[0m\u001b[0;34m:\u001b[0m \u001b[0mdropout\u001b[0m\u001b[0;34m}\u001b[0m\u001b[0;34m)\u001b[0m\u001b[0;34m\u001b[0m\u001b[0m\n\u001b[0m\u001b[1;32m     23\u001b[0m \u001b[0;34m\u001b[0m\u001b[0m\n\u001b[1;32m     24\u001b[0m             \u001b[0;32mif\u001b[0m \u001b[0mstep\u001b[0m \u001b[0;34m%\u001b[0m \u001b[0mdisplay_step\u001b[0m \u001b[0;34m==\u001b[0m \u001b[0;36m0\u001b[0m\u001b[0;34m:\u001b[0m\u001b[0;34m\u001b[0m\u001b[0m\n",
      "\u001b[0;32m/home/lkc-u330/miniconda3/envs/carnd-term1/lib/python3.5/site-packages/tensorflow/python/client/session.py\u001b[0m in \u001b[0;36mrun\u001b[0;34m(self, fetches, feed_dict, options, run_metadata)\u001b[0m\n\u001b[1;32m    764\u001b[0m     \u001b[0;32mtry\u001b[0m\u001b[0;34m:\u001b[0m\u001b[0;34m\u001b[0m\u001b[0m\n\u001b[1;32m    765\u001b[0m       result = self._run(None, fetches, feed_dict, options_ptr,\n\u001b[0;32m--> 766\u001b[0;31m                          run_metadata_ptr)\n\u001b[0m\u001b[1;32m    767\u001b[0m       \u001b[0;32mif\u001b[0m \u001b[0mrun_metadata\u001b[0m\u001b[0;34m:\u001b[0m\u001b[0;34m\u001b[0m\u001b[0m\n\u001b[1;32m    768\u001b[0m         \u001b[0mproto_data\u001b[0m \u001b[0;34m=\u001b[0m \u001b[0mtf_session\u001b[0m\u001b[0;34m.\u001b[0m\u001b[0mTF_GetBuffer\u001b[0m\u001b[0;34m(\u001b[0m\u001b[0mrun_metadata_ptr\u001b[0m\u001b[0;34m)\u001b[0m\u001b[0;34m\u001b[0m\u001b[0m\n",
      "\u001b[0;32m/home/lkc-u330/miniconda3/envs/carnd-term1/lib/python3.5/site-packages/tensorflow/python/client/session.py\u001b[0m in \u001b[0;36m_run\u001b[0;34m(self, handle, fetches, feed_dict, options, run_metadata)\u001b[0m\n\u001b[1;32m    962\u001b[0m     \u001b[0;32mif\u001b[0m \u001b[0mfinal_fetches\u001b[0m \u001b[0;32mor\u001b[0m \u001b[0mfinal_targets\u001b[0m\u001b[0;34m:\u001b[0m\u001b[0;34m\u001b[0m\u001b[0m\n\u001b[1;32m    963\u001b[0m       results = self._do_run(handle, final_targets, final_fetches,\n\u001b[0;32m--> 964\u001b[0;31m                              feed_dict_string, options, run_metadata)\n\u001b[0m\u001b[1;32m    965\u001b[0m     \u001b[0;32melse\u001b[0m\u001b[0;34m:\u001b[0m\u001b[0;34m\u001b[0m\u001b[0m\n\u001b[1;32m    966\u001b[0m       \u001b[0mresults\u001b[0m \u001b[0;34m=\u001b[0m \u001b[0;34m[\u001b[0m\u001b[0;34m]\u001b[0m\u001b[0;34m\u001b[0m\u001b[0m\n",
      "\u001b[0;32m/home/lkc-u330/miniconda3/envs/carnd-term1/lib/python3.5/site-packages/tensorflow/python/client/session.py\u001b[0m in \u001b[0;36m_do_run\u001b[0;34m(self, handle, target_list, fetch_list, feed_dict, options, run_metadata)\u001b[0m\n\u001b[1;32m   1012\u001b[0m     \u001b[0;32mif\u001b[0m \u001b[0mhandle\u001b[0m \u001b[0;32mis\u001b[0m \u001b[0;32mNone\u001b[0m\u001b[0;34m:\u001b[0m\u001b[0;34m\u001b[0m\u001b[0m\n\u001b[1;32m   1013\u001b[0m       return self._do_call(_run_fn, self._session, feed_dict, fetch_list,\n\u001b[0;32m-> 1014\u001b[0;31m                            target_list, options, run_metadata)\n\u001b[0m\u001b[1;32m   1015\u001b[0m     \u001b[0;32melse\u001b[0m\u001b[0;34m:\u001b[0m\u001b[0;34m\u001b[0m\u001b[0m\n\u001b[1;32m   1016\u001b[0m       return self._do_call(_prun_fn, self._session, handle, feed_dict,\n",
      "\u001b[0;32m/home/lkc-u330/miniconda3/envs/carnd-term1/lib/python3.5/site-packages/tensorflow/python/client/session.py\u001b[0m in \u001b[0;36m_do_call\u001b[0;34m(self, fn, *args)\u001b[0m\n\u001b[1;32m   1019\u001b[0m   \u001b[0;32mdef\u001b[0m \u001b[0m_do_call\u001b[0m\u001b[0;34m(\u001b[0m\u001b[0mself\u001b[0m\u001b[0;34m,\u001b[0m \u001b[0mfn\u001b[0m\u001b[0;34m,\u001b[0m \u001b[0;34m*\u001b[0m\u001b[0margs\u001b[0m\u001b[0;34m)\u001b[0m\u001b[0;34m:\u001b[0m\u001b[0;34m\u001b[0m\u001b[0m\n\u001b[1;32m   1020\u001b[0m     \u001b[0;32mtry\u001b[0m\u001b[0;34m:\u001b[0m\u001b[0;34m\u001b[0m\u001b[0m\n\u001b[0;32m-> 1021\u001b[0;31m       \u001b[0;32mreturn\u001b[0m \u001b[0mfn\u001b[0m\u001b[0;34m(\u001b[0m\u001b[0;34m*\u001b[0m\u001b[0margs\u001b[0m\u001b[0;34m)\u001b[0m\u001b[0;34m\u001b[0m\u001b[0m\n\u001b[0m\u001b[1;32m   1022\u001b[0m     \u001b[0;32mexcept\u001b[0m \u001b[0merrors\u001b[0m\u001b[0;34m.\u001b[0m\u001b[0mOpError\u001b[0m \u001b[0;32mas\u001b[0m \u001b[0me\u001b[0m\u001b[0;34m:\u001b[0m\u001b[0;34m\u001b[0m\u001b[0m\n\u001b[1;32m   1023\u001b[0m       \u001b[0mmessage\u001b[0m \u001b[0;34m=\u001b[0m \u001b[0mcompat\u001b[0m\u001b[0;34m.\u001b[0m\u001b[0mas_text\u001b[0m\u001b[0;34m(\u001b[0m\u001b[0me\u001b[0m\u001b[0;34m.\u001b[0m\u001b[0mmessage\u001b[0m\u001b[0;34m)\u001b[0m\u001b[0;34m\u001b[0m\u001b[0m\n",
      "\u001b[0;32m/home/lkc-u330/miniconda3/envs/carnd-term1/lib/python3.5/site-packages/tensorflow/python/client/session.py\u001b[0m in \u001b[0;36m_run_fn\u001b[0;34m(session, feed_dict, fetch_list, target_list, options, run_metadata)\u001b[0m\n\u001b[1;32m   1001\u001b[0m         return tf_session.TF_Run(session, options,\n\u001b[1;32m   1002\u001b[0m                                  \u001b[0mfeed_dict\u001b[0m\u001b[0;34m,\u001b[0m \u001b[0mfetch_list\u001b[0m\u001b[0;34m,\u001b[0m \u001b[0mtarget_list\u001b[0m\u001b[0;34m,\u001b[0m\u001b[0;34m\u001b[0m\u001b[0m\n\u001b[0;32m-> 1003\u001b[0;31m                                  status, run_metadata)\n\u001b[0m\u001b[1;32m   1004\u001b[0m \u001b[0;34m\u001b[0m\u001b[0m\n\u001b[1;32m   1005\u001b[0m     \u001b[0;32mdef\u001b[0m \u001b[0m_prun_fn\u001b[0m\u001b[0;34m(\u001b[0m\u001b[0msession\u001b[0m\u001b[0;34m,\u001b[0m \u001b[0mhandle\u001b[0m\u001b[0;34m,\u001b[0m \u001b[0mfeed_dict\u001b[0m\u001b[0;34m,\u001b[0m \u001b[0mfetch_list\u001b[0m\u001b[0;34m)\u001b[0m\u001b[0;34m:\u001b[0m\u001b[0;34m\u001b[0m\u001b[0m\n",
      "\u001b[0;31mKeyboardInterrupt\u001b[0m: "
     ]
    }
   ],
   "source": [
    "### Train your model here.\n",
    "### Calculate and report the accuracy on the training and validation set.\n",
    "### Once a final model architecture is selected, \n",
    "### the accuracy on the test set should be calculated and reported as well.\n",
    "### Feel free to use as many code cells as needed.\n",
    "num_of_epochs = 10\n",
    "batch_size= 120\n",
    "training_iters = n_train-10000\n",
    "dropout = 0.5 # Dropout, probability to keep units\n",
    "display_step = 10\n",
    "\n",
    "with tf.Session() as sess:\n",
    "    sess.run(tf.global_variables_initializer())\n",
    "    for num in tqdm(range(num_of_epochs)):\n",
    "        print(\"EPOCHS \" + str(num))\n",
    "        step = 1\n",
    "        # Keep training until reach max iterations\n",
    "        while step * batch_size < training_iters:\n",
    "            batch_x = train_features_gray[(step-1)*batch_size:step*batch_size]\n",
    "            batch_y = train_labels_43[(step-1)*batch_size:step*batch_size]\n",
    "            # Run optimization op (backprop)\n",
    "            sess.run(train_op, feed_dict={x: batch_x, y: batch_y, keep_prob: dropout})\n",
    "\n",
    "            if step % display_step == 0:\n",
    "                # Calculate batch loss and accuracy\n",
    "                loss, acc = sess.run([cost, accuracy_op], feed_dict={x: valid_features_gray,y: valid_labels_43, keep_prob: 1})\n",
    "                print(\"Iter \" + str(step*batch_size) + \", Minibatch Loss= \" + \\\n",
    "                       \"{:.6f}\".format(loss) + \", Training Accuracy= \" + \\\n",
    "                       \"{:.5f}\".format(acc))\n",
    "\n",
    "            step += 1\n",
    "    print(\"Optimization Finished!\")\n",
    "\n",
    "    \n",
    "    print(\"Testing Accuracy:\", \\\n",
    "        sess.run(accuracy_op, feed_dict={x: test_features_gray[:n_test],\n",
    "                                      y: test_labels_43[:n_test],\n",
    "                                      keep_prob: 1.}))"
   ]
  },
  {
   "cell_type": "markdown",
   "metadata": {},
   "source": [
    "---\n",
    "\n",
    "## Step 3: Test a Model on New Images\n",
    "\n",
    "To give yourself more insight into how your model is working, download at least five pictures of German traffic signs from the web and use your model to predict the traffic sign type.\n",
    "\n",
    "You may find `signnames.csv` useful as it contains mappings from the class id (integer) to the actual sign name."
   ]
  },
  {
   "cell_type": "markdown",
   "metadata": {},
   "source": [
    "### Load and Output the Images"
   ]
  },
  {
   "cell_type": "code",
   "execution_count": null,
   "metadata": {
    "collapsed": true
   },
   "outputs": [],
   "source": [
    "### Load the images and plot them here.\n",
    "### Feel free to use as many code cells as needed."
   ]
  },
  {
   "cell_type": "markdown",
   "metadata": {},
   "source": [
    "### Predict the Sign Type for Each Image"
   ]
  },
  {
   "cell_type": "code",
   "execution_count": null,
   "metadata": {
    "collapsed": true
   },
   "outputs": [],
   "source": [
    "### Run the predictions here and use the model to output the prediction for each image.\n",
    "### Make sure to pre-process the images with the same pre-processing pipeline used earlier.\n",
    "### Feel free to use as many code cells as needed."
   ]
  },
  {
   "cell_type": "markdown",
   "metadata": {},
   "source": [
    "### Analyze Performance"
   ]
  },
  {
   "cell_type": "code",
   "execution_count": null,
   "metadata": {
    "collapsed": true
   },
   "outputs": [],
   "source": [
    "### Calculate the accuracy for these 5 new images. \n",
    "### For example, if the model predicted 1 out of 5 signs correctly, it's 20% accurate on these new images."
   ]
  },
  {
   "cell_type": "markdown",
   "metadata": {},
   "source": [
    "### Output Top 5 Softmax Probabilities For Each Image Found on the Web"
   ]
  },
  {
   "cell_type": "markdown",
   "metadata": {},
   "source": [
    "For each of the new images, print out the model's softmax probabilities to show the **certainty** of the model's predictions (limit the output to the top 5 probabilities for each image). [`tf.nn.top_k`](https://www.tensorflow.org/versions/r0.12/api_docs/python/nn.html#top_k) could prove helpful here. \n",
    "\n",
    "The example below demonstrates how tf.nn.top_k can be used to find the top k predictions for each image.\n",
    "\n",
    "`tf.nn.top_k` will return the values and indices (class ids) of the top k predictions. So if k=3, for each sign, it'll return the 3 largest probabilities (out of a possible 43) and the correspoding class ids.\n",
    "\n",
    "Take this numpy array as an example. The values in the array represent predictions. The array contains softmax probabilities for five candidate images with six possible classes. `tk.nn.top_k` is used to choose the three classes with the highest probability:\n",
    "\n",
    "```\n",
    "# (5, 6) array\n",
    "a = np.array([[ 0.24879643,  0.07032244,  0.12641572,  0.34763842,  0.07893497,\n",
    "         0.12789202],\n",
    "       [ 0.28086119,  0.27569815,  0.08594638,  0.0178669 ,  0.18063401,\n",
    "         0.15899337],\n",
    "       [ 0.26076848,  0.23664738,  0.08020603,  0.07001922,  0.1134371 ,\n",
    "         0.23892179],\n",
    "       [ 0.11943333,  0.29198961,  0.02605103,  0.26234032,  0.1351348 ,\n",
    "         0.16505091],\n",
    "       [ 0.09561176,  0.34396535,  0.0643941 ,  0.16240774,  0.24206137,\n",
    "         0.09155967]])\n",
    "```\n",
    "\n",
    "Running it through `sess.run(tf.nn.top_k(tf.constant(a), k=3))` produces:\n",
    "\n",
    "```\n",
    "TopKV2(values=array([[ 0.34763842,  0.24879643,  0.12789202],\n",
    "       [ 0.28086119,  0.27569815,  0.18063401],\n",
    "       [ 0.26076848,  0.23892179,  0.23664738],\n",
    "       [ 0.29198961,  0.26234032,  0.16505091],\n",
    "       [ 0.34396535,  0.24206137,  0.16240774]]), indices=array([[3, 0, 5],\n",
    "       [0, 1, 4],\n",
    "       [0, 5, 1],\n",
    "       [1, 3, 5],\n",
    "       [1, 4, 3]], dtype=int32))\n",
    "```\n",
    "\n",
    "Looking just at the first row we get `[ 0.34763842,  0.24879643,  0.12789202]`, you can confirm these are the 3 largest probabilities in `a`. You'll also notice `[3, 0, 5]` are the corresponding indices."
   ]
  },
  {
   "cell_type": "code",
   "execution_count": null,
   "metadata": {
    "collapsed": true
   },
   "outputs": [],
   "source": [
    "### Print out the top five softmax probabilities for the predictions on the German traffic sign images found on the web. \n",
    "### Feel free to use as many code cells as needed."
   ]
  },
  {
   "cell_type": "markdown",
   "metadata": {},
   "source": [
    "---\n",
    "\n",
    "## Step 4: Visualize the Neural Network's State with Test Images\n",
    "\n",
    " This Section is not required to complete but acts as an additional excersise for understaning the output of a neural network's weights. While neural networks can be a great learning device they are often referred to as a black box. We can understand what the weights of a neural network look like better by plotting their feature maps. After successfully training your neural network you can see what it's feature maps look like by plotting the output of the network's weight layers in response to a test stimuli image. From these plotted feature maps, it's possible to see what characteristics of an image the network finds interesting. For a sign, maybe the inner network feature maps react with high activation to the sign's boundary outline or to the contrast in the sign's painted symbol.\n",
    "\n",
    " Provided for you below is the function code that allows you to get the visualization output of any tensorflow weight layer you want. The inputs to the function should be a stimuli image, one used during training or a new one you provided, and then the tensorflow variable name that represents the layer's state during the training process, for instance if you wanted to see what the [LeNet lab's](https://classroom.udacity.com/nanodegrees/nd013/parts/fbf77062-5703-404e-b60c-95b78b2f3f9e/modules/6df7ae49-c61c-4bb2-a23e-6527e69209ec/lessons/601ae704-1035-4287-8b11-e2c2716217ad/concepts/d4aca031-508f-4e0b-b493-e7b706120f81) feature maps looked like for it's second convolutional layer you could enter conv2 as the tf_activation variable.\n",
    "\n",
    "For an example of what feature map outputs look like, check out NVIDIA's results in their paper [End-to-End Deep Learning for Self-Driving Cars](https://devblogs.nvidia.com/parallelforall/deep-learning-self-driving-cars/) in the section Visualization of internal CNN State. NVIDIA was able to show that their network's inner weights had high activations to road boundary lines by comparing feature maps from an image with a clear path to one without. Try experimenting with a similar test to show that your trained network's weights are looking for interesting features, whether it's looking at differences in feature maps from images with or without a sign, or even what feature maps look like in a trained network vs a completely untrained one on the same sign image.\n",
    "\n",
    "<figure>\n",
    " <img src=\"visualize_cnn.png\" width=\"380\" alt=\"Combined Image\" />\n",
    " <figcaption>\n",
    " <p></p> \n",
    " <p style=\"text-align: center;\"> Your output should look something like this (above)</p> \n",
    " </figcaption>\n",
    "</figure>\n",
    " <p></p> \n"
   ]
  },
  {
   "cell_type": "code",
   "execution_count": null,
   "metadata": {
    "collapsed": true
   },
   "outputs": [],
   "source": [
    "### Visualize your network's feature maps here.\n",
    "### Feel free to use as many code cells as needed.\n",
    "\n",
    "# image_input: the test image being fed into the network to produce the feature maps\n",
    "# tf_activation: should be a tf variable name used during your training procedure that represents the calculated state of a specific weight layer\n",
    "# activation_min/max: can be used to view the activation contrast in more detail, by default matplot sets min and max to the actual min and max values of the output\n",
    "# plt_num: used to plot out multiple different weight feature map sets on the same block, just extend the plt number for each new feature map entry\n",
    "\n",
    "def outputFeatureMap(image_input, tf_activation, activation_min=-1, activation_max=-1 ,plt_num=1):\n",
    "    # Here make sure to preprocess your image_input in a way your network expects\n",
    "    # with size, normalization, ect if needed\n",
    "    # image_input =\n",
    "    # Note: x should be the same name as your network's tensorflow data placeholder variable\n",
    "    # If you get an error tf_activation is not defined it maybe having trouble accessing the variable from inside a function\n",
    "    activation = tf_activation.eval(session=sess,feed_dict={x : image_input})\n",
    "    featuremaps = activation.shape[3]\n",
    "    plt.figure(plt_num, figsize=(15,15))\n",
    "    for featuremap in range(featuremaps):\n",
    "        plt.subplot(6,8, featuremap+1) # sets the number of feature maps to show on each row and column\n",
    "        plt.title('FeatureMap ' + str(featuremap)) # displays the feature map number\n",
    "        if activation_min != -1 & activation_max != -1:\n",
    "            plt.imshow(activation[0,:,:, featuremap], interpolation=\"nearest\", vmin =activation_min, vmax=activation_max, cmap=\"gray\")\n",
    "        elif activation_max != -1:\n",
    "            plt.imshow(activation[0,:,:, featuremap], interpolation=\"nearest\", vmax=activation_max, cmap=\"gray\")\n",
    "        elif activation_min !=-1:\n",
    "            plt.imshow(activation[0,:,:, featuremap], interpolation=\"nearest\", vmin=activation_min, cmap=\"gray\")\n",
    "        else:\n",
    "            plt.imshow(activation[0,:,:, featuremap], interpolation=\"nearest\", cmap=\"gray\")"
   ]
  },
  {
   "cell_type": "markdown",
   "metadata": {},
   "source": [
    "### Question 9\n",
    "\n",
    "Discuss how you used the visual output of your trained network's feature maps to show that it had learned to look for interesting characteristics in traffic sign images\n"
   ]
  },
  {
   "cell_type": "markdown",
   "metadata": {},
   "source": [
    "**Answer:**"
   ]
  },
  {
   "cell_type": "markdown",
   "metadata": {},
   "source": [
    "> **Note**: Once you have completed all of the code implementations and successfully answered each question above, you may finalize your work by exporting the iPython Notebook as an HTML document. You can do this by using the menu above and navigating to  \\n\",\n",
    "    \"**File -> Download as -> HTML (.html)**. Include the finished document along with this notebook as your submission."
   ]
  },
  {
   "cell_type": "markdown",
   "metadata": {},
   "source": [
    "### Project Writeup\n",
    "\n",
    "Once you have completed the code implementation, document your results in a project writeup using this [template](https://github.com/udacity/CarND-Traffic-Sign-Classifier-Project/blob/master/writeup_template.md) as a guide. The writeup can be in a markdown or pdf file. "
   ]
  },
  {
   "cell_type": "code",
   "execution_count": null,
   "metadata": {
    "collapsed": true
   },
   "outputs": [],
   "source": []
  },
  {
   "cell_type": "code",
   "execution_count": null,
   "metadata": {
    "collapsed": true
   },
   "outputs": [],
   "source": []
  },
  {
   "cell_type": "code",
   "execution_count": null,
   "metadata": {
    "collapsed": true
   },
   "outputs": [],
   "source": []
  },
  {
   "cell_type": "code",
   "execution_count": null,
   "metadata": {
    "collapsed": true
   },
   "outputs": [],
   "source": []
  },
  {
   "cell_type": "code",
   "execution_count": null,
   "metadata": {
    "collapsed": true
   },
   "outputs": [],
   "source": []
  }
 ],
 "metadata": {
  "anaconda-cloud": {},
  "kernelspec": {
   "display_name": "Python 3",
   "language": "python",
   "name": "python3"
  },
  "language_info": {
   "codemirror_mode": {
    "name": "ipython",
    "version": 3
   },
   "file_extension": ".py",
   "mimetype": "text/x-python",
   "name": "python",
   "nbconvert_exporter": "python",
   "pygments_lexer": "ipython3",
   "version": "3.5.2"
  },
  "widgets": {
   "state": {},
   "version": "1.1.2"
  }
 },
 "nbformat": 4,
 "nbformat_minor": 1
}
