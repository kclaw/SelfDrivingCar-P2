{
 "cells": [
  {
   "cell_type": "markdown",
   "metadata": {},
   "source": [
    "# Self-Driving Car Engineer Nanodegree\n",
    "\n",
    "## Deep Learning\n",
    "\n",
    "## Project: Build a Traffic Sign Recognition Classifier\n",
    "\n",
    "In this notebook, a template is provided for you to implement your functionality in stages, which is required to successfully complete this project. If additional code is required that cannot be included in the notebook, be sure that the Python code is successfully imported and included in your submission if necessary. \n",
    "\n",
    "> **Note**: Once you have completed all of the code implementations, you need to finalize your work by exporting the iPython Notebook as an HTML document. Before exporting the notebook to html, all of the code cells need to have been run so that reviewers can see the final implementation and output. You can then export the notebook by using the menu above and navigating to  \\n\",\n",
    "    \"**File -> Download as -> HTML (.html)**. Include the finished document along with this notebook as your submission. \n",
    "\n",
    "In addition to implementing code, there is a writeup to complete. The writeup should be completed in a separate file, which can be either a markdown file or a pdf document. There is a [write up template](https://github.com/udacity/CarND-Traffic-Sign-Classifier-Project/blob/master/writeup_template.md) that can be used to guide the writing process. Completing the code template and writeup template will cover all of the [rubric points](https://review.udacity.com/#!/rubrics/481/view) for this project.\n",
    "\n",
    "The [rubric](https://review.udacity.com/#!/rubrics/481/view) contains \"Stand Out Suggestions\" for enhancing the project beyond the minimum requirements. The stand out suggestions are optional. If you decide to pursue the \"stand out suggestions\", you can include the code in this Ipython notebook and also discuss the results in the writeup file.\n",
    "\n",
    "\n",
    ">**Note:** Code and Markdown cells can be executed using the **Shift + Enter** keyboard shortcut. In addition, Markdown cells can be edited by typically double-clicking the cell to enter edit mode."
   ]
  },
  {
   "cell_type": "markdown",
   "metadata": {},
   "source": [
    "---\n",
    "## Step 0: Load The Data"
   ]
  },
  {
   "cell_type": "code",
   "execution_count": 1,
   "metadata": {
    "collapsed": false
   },
   "outputs": [],
   "source": [
    "# Load pickled data\n",
    "import pickle\n",
    "# TODO: Fill this in based on where you saved the training and testing data\n",
    "\n",
    "training_file = \"/home/lkc-u330/Desktop/CarND-Traffic-Sign-Classifier-Project/CarND-Traffic-Sign-Classifier-Project/train.p\"\n",
    "validation_file= \"/home/lkc-u330/Desktop/CarND-Traffic-Sign-Classifier-Project/CarND-Traffic-Sign-Classifier-Project/valid.p\"\n",
    "testing_file = \"/home/lkc-u330/Desktop/CarND-Traffic-Sign-Classifier-Project/CarND-Traffic-Sign-Classifier-Project/test.p\"\n",
    "\n",
    "with open(training_file, mode='rb') as f:\n",
    "    train = pickle.load(f)\n",
    "with open(validation_file, mode='rb') as f:\n",
    "    valid = pickle.load(f)\n",
    "with open(testing_file, mode='rb') as f:\n",
    "    test = pickle.load(f)\n",
    "    \n",
    "train_features, train_labels, train_sizes, train_coords = train['features'], train['labels'] , train['sizes'] , train['coords']\n",
    "valid_features, valid_labels, valid_sizes, valid_coords = valid['features'], valid['labels'], valid['sizes'], valid['coords']\n",
    "test_features, test_labels, test_sizes, test_coords = test['features'], test['labels'], test['sizes'], test['coords']\n"
   ]
  },
  {
   "cell_type": "markdown",
   "metadata": {},
   "source": [
    "---\n",
    "\n",
    "## Step 1: Dataset Summary & Exploration\n",
    "\n",
    "The pickled data is a dictionary with 4 key/value pairs:\n",
    "\n",
    "- `'features'` is a 4D array containing raw pixel data of the traffic sign images, (num examples, width, height, channels).\n",
    "- `'labels'` is a 1D array containing the label/class id of the traffic sign. The file `signnames.csv` contains id -> name mappings for each id.\n",
    "- `'sizes'` is a list containing tuples, (width, height) representing the the original width and height the image.\n",
    "- `'coords'` is a list containing tuples, (x1, y1, x2, y2) representing coordinates of a bounding box around the sign in the image. **THESE COORDINATES ASSUME THE ORIGINAL IMAGE. THE PICKLED DATA CONTAINS RESIZED VERSIONS (32 by 32) OF THESE IMAGES**\n",
    "\n",
    "Complete the basic data summary below. Use python, numpy and/or pandas methods to calculate the data summary rather than hard coding the results. For example, the [pandas shape method](http://pandas.pydata.org/pandas-docs/stable/generated/pandas.DataFrame.shape.html) might be useful for calculating some of the summary results. "
   ]
  },
  {
   "cell_type": "markdown",
   "metadata": {},
   "source": [
    "### Provide a Basic Summary of the Data Set Using Python, Numpy and/or Pandas"
   ]
  },
  {
   "cell_type": "code",
   "execution_count": 2,
   "metadata": {
    "collapsed": false
   },
   "outputs": [
    {
     "name": "stdout",
     "output_type": "stream",
     "text": [
      "Number of training examples = 34799\n",
      "Number of testing examples = 12630\n",
      "Image data shape = [32 32]\n",
      "Number of classes = 43\n"
     ]
    }
   ],
   "source": [
    "### Replace each question mark with the appropriate value. \n",
    "### Use python, pandas or numpy methods rather than hard coding the results\n",
    "import pandas\n",
    "import numpy\n",
    "\n",
    "# TODO: Number of training examples\n",
    "n_train = len(train_features)\n",
    "\n",
    "# TODO: Number of testing examples.\n",
    "n_test = len(test_features)\n",
    "\n",
    "# TODO: What's the shape of an traffic sign image?\n",
    "image_shape = numpy.asarray(numpy.array(train_features).shape)[1:3:1]\n",
    "\n",
    "# TODO: How many unique classes/labels there are in the dataset.\n",
    "n_classes = len(numpy.unique(train_labels))\n",
    "\n",
    "print(\"Number of training examples =\", n_train)\n",
    "print(\"Number of testing examples =\", n_test)\n",
    "print(\"Image data shape =\", image_shape)\n",
    "print(\"Number of classes =\", n_classes)"
   ]
  },
  {
   "cell_type": "markdown",
   "metadata": {},
   "source": [
    "### Include an exploratory visualization of the dataset"
   ]
  },
  {
   "cell_type": "markdown",
   "metadata": {},
   "source": [
    "Visualize the German Traffic Signs Dataset using the pickled file(s). This is open ended, suggestions include: plotting traffic sign images, plotting the count of each sign, etc.\n",
    "\n",
    "The [Matplotlib](http://matplotlib.org/) [examples](http://matplotlib.org/examples/index.html) and [gallery](http://matplotlib.org/gallery.html) pages are a great resource for doing visualizations in Python.\n",
    "\n",
    "**NOTE:** It's recommended you start with something simple first. If you wish to do more, come back to it after you've completed the rest of the sections."
   ]
  },
  {
   "cell_type": "code",
   "execution_count": 3,
   "metadata": {
    "collapsed": false
   },
   "outputs": [
    {
     "data": {
      "text/plain": [
       "<matplotlib.image.AxesImage at 0x7f49eee86710>"
      ]
     },
     "execution_count": 3,
     "metadata": {},
     "output_type": "execute_result"
    },
    {
     "data": {
      "image/png": "[encoded data removed]",
      "text/plain": [
       "<matplotlib.figure.Figure at 0x7f49ff47a898>"
      ]
     },
     "metadata": {},
     "output_type": "display_data"
    }
   ],
   "source": [
    "### Data exploration visualization code goes here.\n",
    "### Feel free to use as many code cells as needed.\n",
    "import matplotlib.pyplot as plt\n",
    "import cv2\n",
    "import math\n",
    "from tqdm import *\n",
    "\n",
    "# Visualizations will be shown in the notebook.\n",
    "%matplotlib inline\n",
    "\n",
    "#retrieve data in 4-d array from dataset,and construct and return an 3-d array representing an image\n",
    "def reshapeImagesFromDataset(dataset, start=0, end=0, image_shape=image_shape):\n",
    "    return dataset[start:end]\n",
    "\n",
    "def displayImages(imageset):\n",
    "    for num in range(0, len(imageset)):\n",
    "        plt.figure()\n",
    "        plt.imshow(imageset[num])\n",
    "\n",
    "def regionOfInterest(img, vertices):\n",
    "    mask = numpy.zeros_like(img)   \n",
    "    if len(img.shape) > 2:\n",
    "        channel_count = img.shape[2]  # i.e. 3 or 4 depending on your image\n",
    "        ignore_mask_color = (255,) * channel_count\n",
    "    else:\n",
    "        ignore_mask_color = 255\n",
    "    cv2.fillPoly(mask, vertices, ignore_mask_color)\n",
    "    masked_image = cv2.bitwise_and(img, mask)\n",
    "    return masked_image\n",
    "\n",
    "def verticesFromDatasets(coords, sizes, num, image_shape=image_shape):\n",
    "    result = []\n",
    "    width, height = sizes[num][0], sizes[num][1]\n",
    "    x1,y1,x2,y2 = coords[num][0], coords[num][1], coords[num][2], coords[num][3]\n",
    "    x_ratio, y_ratio = image_shape[0]/width, image_shape[1]/height\n",
    "    result.append((round(x1*x_ratio,0),round(y1*y_ratio,0)))\n",
    "    result.append((round(x2*x_ratio,0),round(y1*y_ratio,0)))\n",
    "    result.append((round(x2*x_ratio,0),round(y2*y_ratio,0)))\n",
    "    result.append((round(x1*x_ratio,0),round(y2*y_ratio,0)))\n",
    "    return result\n",
    "  \n",
    "def maskedImagesFromDatasets(features, sizes, coords, start, end, image_shape=image_shape):\n",
    "    masked_images=[]\n",
    "    images = numpy.array(reshapeImagesFromDataset(features, start, end, image_shape))\n",
    "    for num in tqdm(range(0, len(images))):\n",
    "        opencvImage = cv2.cvtColor(images[num], cv2.COLOR_RGB2BGR)\n",
    "        masked_images.append(regionOfInterest(opencvImage, numpy.array([verticesFromDatasets(coords, sizes, num+start)],dtype=numpy.int32)))\n",
    "    return masked_images\n",
    "#test\n",
    "img = numpy.array(reshapeImagesFromDataset(train_features,1000,1020)[0])\n",
    "opencvImage = cv2.cvtColor(numpy.array(img), cv2.COLOR_RGB2BGR)\n",
    "plt.imshow(regionOfInterest(opencvImage, numpy.array([verticesFromDatasets(train_coords,train_sizes,0)],dtype=numpy.int32)))"
   ]
  },
  {
   "cell_type": "markdown",
   "metadata": {},
   "source": [
    "----\n",
    "\n",
    "## Step 2: Design and Test a Model Architecture\n",
    "\n",
    "Design and implement a deep learning model that learns to recognize traffic signs. Train and test your model on the [German Traffic Sign Dataset](http://benchmark.ini.rub.de/?section=gtsrb&subsection=dataset).\n",
    "\n",
    "There are various aspects to consider when thinking about this problem:\n",
    "\n",
    "- Neural network architecture\n",
    "- Play around preprocessing techniques (normalization, rgb to grayscale, etc)\n",
    "- Number of examples per label (some have more than others).\n",
    "- Generate fake data.\n",
    "\n",
    "Here is an example of a [published baseline model on this problem](http://yann.lecun.com/exdb/publis/pdf/sermanet-ijcnn-11.pdf). It's not required to be familiar with the approach used in the paper but, it's good practice to try to read papers like these.\n",
    "\n",
    "**NOTE:** The LeNet-5 implementation shown in the [classroom](https://classroom.udacity.com/nanodegrees/nd013/parts/fbf77062-5703-404e-b60c-95b78b2f3f9e/modules/6df7ae49-c61c-4bb2-a23e-6527e69209ec/lessons/601ae704-1035-4287-8b11-e2c2716217ad/concepts/d4aca031-508f-4e0b-b493-e7b706120f81) at the end of the CNN lesson is a solid starting point. You'll have to change the number of classes and possibly the preprocessing, but aside from that it's plug and play!"
   ]
  },
  {
   "cell_type": "markdown",
   "metadata": {},
   "source": [
    "### Pre-process the Data Set (normalization, grayscale, etc.)"
   ]
  },
  {
   "cell_type": "markdown",
   "metadata": {},
   "source": [
    "Use the code cell (or multiple code cells, if necessary) to implement the first step of your project."
   ]
  },
  {
   "cell_type": "code",
   "execution_count": 135,
   "metadata": {
    "collapsed": false,
    "scrolled": true
   },
   "outputs": [
    {
     "name": "stdout",
     "output_type": "stream",
     "text": [
      "Task:train_features_gray is completed\n",
      "\n",
      "Task:valid_features_gray is completed"
     ]
    },
    {
     "name": "stderr",
     "output_type": "stream",
     "text": [
      "\n",
      "  0%|          | 0/1 [00:00<?, ?it/s]\u001b[A\n",
      "100%|██████████| 1/1 [00:00<00:00, 43.36it/s]"
     ]
    },
    {
     "name": "stdout",
     "output_type": "stream",
     "text": [
      "\n",
      "\n",
      "Task:test_features_gray is completed\n",
      "\n",
      "Task:train_labels_43 is completed\n",
      "\n",
      "Task:valid_labels_43 is completed\n",
      "\n",
      "Task:test_labels_43 is completed\n",
      "\n"
     ]
    },
    {
     "name": "stderr",
     "output_type": "stream",
     "text": [
      "\u001b[A/home/lkc-u330/miniconda3/envs/carnd-term1/lib/python3.5/site-packages/ipykernel/__main__.py:38: VisibleDeprecationWarning: using a non-integer number instead of an integer will result in an error in the future\n"
     ]
    },
    {
     "ename": "IndexError",
     "evalue": "index 19 is out of bounds for axis 0 with size 19",
     "output_type": "error",
     "traceback": [
      "\u001b[0;31m---------------------------------------------------------------------------\u001b[0m",
      "\u001b[0;31mIndexError\u001b[0m                                Traceback (most recent call last)",
      "\u001b[0;32m<ipython-input-135-436627724926>\u001b[0m in \u001b[0;36m<module>\u001b[0;34m()\u001b[0m\n\u001b[1;32m    133\u001b[0m \u001b[0;31m#test = reshapeImage(test)\u001b[0m\u001b[0;34m\u001b[0m\u001b[0;34m\u001b[0m\u001b[0m\n\u001b[1;32m    134\u001b[0m \u001b[0mplt\u001b[0m\u001b[0;34m.\u001b[0m\u001b[0mimshow\u001b[0m\u001b[0;34m(\u001b[0m\u001b[0mtest\u001b[0m\u001b[0;34m)\u001b[0m\u001b[0;34m\u001b[0m\u001b[0m\n\u001b[0;32m--> 135\u001b[0;31m \u001b[0mtest\u001b[0m \u001b[0;34m=\u001b[0m \u001b[0mreshapeGrayScaleImage\u001b[0m\u001b[0;34m(\u001b[0m\u001b[0mtest\u001b[0m\u001b[0;34m)\u001b[0m\u001b[0;34m\u001b[0m\u001b[0m\n\u001b[0m",
      "\u001b[0;32m<ipython-input-135-436627724926>\u001b[0m in \u001b[0;36mreshapeGrayScaleImage\u001b[0;34m(image, image_shape)\u001b[0m\n\u001b[1;32m     61\u001b[0m         \u001b[0;32mfor\u001b[0m \u001b[0my\u001b[0m \u001b[0;32min\u001b[0m \u001b[0mrange\u001b[0m\u001b[0;34m(\u001b[0m\u001b[0;36m0\u001b[0m\u001b[0;34m,\u001b[0m \u001b[0mimage_shape\u001b[0m\u001b[0;34m[\u001b[0m\u001b[0;36m1\u001b[0m\u001b[0;34m]\u001b[0m\u001b[0;34m)\u001b[0m\u001b[0;34m:\u001b[0m\u001b[0;34m\u001b[0m\u001b[0m\n\u001b[1;32m     62\u001b[0m             \u001b[0mtemp\u001b[0m \u001b[0;34m=\u001b[0m \u001b[0;34m[\u001b[0m\u001b[0;34m]\u001b[0m\u001b[0;34m\u001b[0m\u001b[0m\n\u001b[0;32m---> 63\u001b[0;31m             \u001b[0mtemp\u001b[0m\u001b[0;34m.\u001b[0m\u001b[0mappend\u001b[0m\u001b[0;34m(\u001b[0m\u001b[0mimage\u001b[0m\u001b[0;34m[\u001b[0m\u001b[0mx\u001b[0m\u001b[0;34m]\u001b[0m\u001b[0;34m[\u001b[0m\u001b[0my\u001b[0m\u001b[0;34m]\u001b[0m\u001b[0;34m)\u001b[0m\u001b[0;34m\u001b[0m\u001b[0m\n\u001b[0m\u001b[1;32m     64\u001b[0m             \u001b[0mcolumn\u001b[0m\u001b[0;34m.\u001b[0m\u001b[0mappend\u001b[0m\u001b[0;34m(\u001b[0m\u001b[0mtemp\u001b[0m\u001b[0;34m)\u001b[0m\u001b[0;34m\u001b[0m\u001b[0m\n\u001b[1;32m     65\u001b[0m         \u001b[0mresult_image\u001b[0m\u001b[0;34m.\u001b[0m\u001b[0mappend\u001b[0m\u001b[0;34m(\u001b[0m\u001b[0mcolumn\u001b[0m\u001b[0;34m)\u001b[0m\u001b[0;34m\u001b[0m\u001b[0m\n",
      "\u001b[0;31mIndexError\u001b[0m: index 19 is out of bounds for axis 0 with size 19"
     ]
    },
    {
     "data": {
      "image/png": "[encoded data removed]",
      "text/plain": [
       "<matplotlib.figure.Figure at 0x7f49ece24b00>"
      ]
     },
     "metadata": {},
     "output_type": "display_data"
    }
   ],
   "source": [
    "### Preprocess the data here. Preprocessing steps could include normalization, converting to grayscale, etc.\n",
    "### Feel free to use as many code cells as needed.\n",
    "from tqdm import *\n",
    "import gc\n",
    "\n",
    "# convert from a three channel color pixel into one channel gray pixel\n",
    "# e.g. input: [24, 36, 80] => [gray-scaled-value]\n",
    "def rgb2gray(rgb):\n",
    "    return numpy.dot(rgb[...,:3], [0.299, 0.587, 0.114])\n",
    "            \n",
    "def grayScaleImage(image, image_shape=image_shape):\n",
    "    result_image = []\n",
    "    for x in range(0, image_shape[0]):\n",
    "        column = []\n",
    "        for y in range(0, image_shape[1]):\n",
    "            column.append(rgb2gray(numpy.array(image[x][y])).tolist())\n",
    "        result_image.append(column)\n",
    "    image = result_image\n",
    "    return image\n",
    "\n",
    "# divide difference between value of a pixal and half of maximum value achievable of a pixal by half of maximum value achievable of a pixal\n",
    "# input: image,which is one channel gray scale image\n",
    "def zeroCenterImage(image):\n",
    "    #result_image = []\n",
    "    #for x in range(0, image_shape[0]):\n",
    "        #column = []\n",
    "        #for y in range(0, image_shape[1]):\n",
    "            #column.append((image[x][y]-128)/128)\n",
    "        #result_image.append(column)\n",
    "    #image = result_image\n",
    "    image -= numpy.mean(image, axis = 0, dtype=numpy.uint8)\n",
    "    return image\n",
    "\n",
    "def zeroCenterImageInRegion(image, vertices):\n",
    "    x_max,y_max = numpy.max(vertices,axis=0)\n",
    "    x_min,y_min = numpy.min(vertices,axis=0)\n",
    "    image = numpy.array(image)\n",
    "    image = image[y_min:y_max, x_min:x_max]\n",
    "    return zeroCenterImage(image)\n",
    "\n",
    "def reshapeImage(origin, final_shape=image_shape):\n",
    "    result = numpy.zeros(final_shape)\n",
    "    origin = numpy.array(origin)\n",
    "    origin_width = origin.shape[0]\n",
    "    origin_height = origin.shape[1]\n",
    "    start_x = (final_shape[0]-origin_width)/2\n",
    "    start_y = (final_shape[1]-origin_height)/2\n",
    "    result[start_x:origin.shape[0]+start_x, start_y:origin.shape[1]+start_y] = origin\n",
    "    origin = result\n",
    "    return origin\n",
    "    \n",
    "def normalizeImage(image):\n",
    "    image /= numpy.std(image, axis = 0)\n",
    "    return image\n",
    "# convert 2-d grayscale image to 3-d array with format:\n",
    "# [x][y][channel] i.e. [31][31][0]\n",
    "def reshapeGrayScaleImage(image, image_shape=image_shape):\n",
    "    result_image = []\n",
    "    for x in range(0, image_shape[0]):\n",
    "        column = []\n",
    "        for y in range(0, image_shape[1]):\n",
    "            temp = []\n",
    "            temp.append(image[x][y])\n",
    "            column.append(temp)\n",
    "        result_image.append(column)\n",
    "    image = result_image\n",
    "    return image\n",
    "\n",
    "# convert 2-d grayscale image to 1-d array\n",
    "def reshapeGrayScaleImage2(image, image_shape=image_shape):\n",
    "    result_array = []\n",
    "    for x in range(0, image_shape[0]):\n",
    "        for y in range(0, image_shape[1]):\n",
    "            result_array.append(image[x][y])\n",
    "    image=result_array\n",
    "    return image\n",
    "\n",
    "# calling functions in sequence: maskedImagesFromDatasets->grayScaleImage->normalizeImage->reshapeGrayScaleImage2\n",
    "def prepareImages(features, sizes, coords, start=0, end=0):\n",
    "    prepared_images=[]\n",
    "    print(\"maskedImagesFromDatasets...\")\n",
    "    temp = maskedImagesFromDatasets(features, sizes, coords, start, end, image_shape)\n",
    "    print(\"grayScaleImage & normalization...\")\n",
    "    for num in tqdm(range(0, end-start)):\n",
    "        result1 = grayScaleImage(temp[num])\n",
    "        result2 = zeroCenterImageInRegion(result1, verticesFromDatasets(coords, sizes, start+num))\n",
    "        result3 = normalizeImage(result2)\n",
    "        #result4 = reshapeImage(result3)\n",
    "        result5 = reshapeGrayScaleImage2(result3)\n",
    "        if num%10000 == 0:\n",
    "            gc.collect()\n",
    "        prepared_images.append(result5)\n",
    "    return prepared_images\n",
    "\n",
    "\n",
    "# return a 2d-array with inner arrays,each one of arrays is assigned with zero value of desired length \n",
    "# except the dedicated position of the array is assigned with value of one\n",
    "def preparelabels(dataset, length):\n",
    "    result = []\n",
    "    for num in range(0,len(dataset)):\n",
    "        #print(dataset[num])\n",
    "        temp = numpy.zeros(length)\n",
    "        temp[dataset[num]] = 1\n",
    "        result.append(temp)\n",
    "    #result = numpy.reshape(result, (-1, 43))\n",
    "    return result\n",
    "\n",
    "# prepared data\n",
    "#train_features_gray = prepareImages(train_features,train_sizes,train_coords, 0, n_train)\n",
    "print(\"Task:train_features_gray is completed\")\n",
    "print()\n",
    "#valid_features_gray = prepareImages(valid_features,valid_sizes,valid_coords, 0, len(valid_features))\n",
    "print(\"Task:valid_features_gray is completed\")\n",
    "print()\n",
    "#test_features_gray = prepareImages(test_features,test_sizes,test_coords, 0, n_test)\n",
    "print(\"Task:test_features_gray is completed\")\n",
    "print()\n",
    "train_labels_43 = preparelabels(train_labels, 43)\n",
    "print(\"Task:train_labels_43 is completed\")\n",
    "print()\n",
    "valid_labels_43 = preparelabels(valid_labels, 43)\n",
    "print(\"Task:valid_labels_43 is completed\")\n",
    "print()\n",
    "test_labels_43 = preparelabels(test_labels, 43)\n",
    "print(\"Task:test_labels_43 is completed\")\n",
    "print()\n",
    "\n",
    "# test code\n",
    "img = maskedImagesFromDatasets(train_features, train_sizes, train_coords, 1050 , 1051)\n",
    "test = grayScaleImage(img[0])\n",
    "test = zeroCenterImageInRegion(test, verticesFromDatasets(train_coords, train_sizes, 0))\n",
    "test = normalizeImage(test)\n",
    "#test = reshapeImage(test)\n",
    "plt.imshow(test)\n",
    "test = reshapeGrayScaleImage(test)"
   ]
  },
  {
   "cell_type": "code",
   "execution_count": 21,
   "metadata": {
    "collapsed": false
   },
   "outputs": [
    {
     "name": "stderr",
     "output_type": "stream",
     "text": [
      "100%|██████████| 1/1 [00:00<00:00, 1597.83it/s]\n"
     ]
    },
    {
     "data": {
      "text/plain": [
       "<matplotlib.image.AxesImage at 0x7fe96ca55400>"
      ]
     },
     "execution_count": 21,
     "metadata": {},
     "output_type": "execute_result"
    },
    {
     "data": {
      "image/png": "[encoded data removed]",
      "text/plain": [
       "<matplotlib.figure.Figure at 0x7fe96c9f1e10>"
      ]
     },
     "metadata": {},
     "output_type": "display_data"
    }
   ],
   "source": [
    "\n",
    "img = maskedImagesFromDatasets(train_features,train_sizes,train_coords, 1000 , 1001)\n",
    "test = zeroCenterImage(grayScaleImage(img[0]))\n",
    "plt.imshow(test)"
   ]
  },
  {
   "cell_type": "markdown",
   "metadata": {},
   "source": [
    "### Model Architecture"
   ]
  },
  {
   "cell_type": "code",
   "execution_count": 136,
   "metadata": {
    "collapsed": false
   },
   "outputs": [],
   "source": [
    "### Define your architecture here.\n",
    "### Feel free to use as many code cells as needed.\n",
    "import tensorflow as tf\n",
    "x = tf.placeholder(tf.float32, (None, image_shape[0] * image_shape[1]))\n",
    "y = tf.placeholder(tf.int32, (None, n_classes))\n",
    "#one_hot_y = tf.one_hot(y, n_classes)\n",
    "keep_prob = tf.placeholder(tf.float32)\n",
    "\n",
    "def convNet(x, weight, biases, dropout):\n",
    "    # Reshape from 2D to 4D. This prepares the data for\n",
    "    # convolutional and pooling layers.\n",
    "    x = tf.reshape(x, (-1, image_shape[0], image_shape[1], 1))\n",
    "    \n",
    "    # Convolution Layer\n",
    "    conv1 = conv2d(x, weights['wc1'], biases['bc1'])\n",
    "    # Max Pooling (down-sampling)\n",
    "    conv1 = maxpool2d(conv1, k=2)\n",
    "    \n",
    "    # Convolution Layer\n",
    "    conv2 = conv2d(conv1, weights['wc2'], biases['bc2'])\n",
    "    # Max Pooling (down-sampling)\n",
    "    conv2 = maxpool2d(conv2, k=2)\n",
    "    \n",
    "    # Fully connected layer\n",
    "    # Reshape conv2 output to fit fully connected layer input\n",
    "    fc1 = tf.reshape(conv2, [-1, weights['wd1'].get_shape().as_list()[0]])\n",
    "    fc1 = tf.add(tf.matmul(fc1, weights['wd1']), biases['bd1'])\n",
    "    fc1 = tf.nn.relu(fc1)\n",
    "    fc1 = tf.nn.dropout(fc1, dropout)\n",
    "    #fc2 = tf.add(tf.matmul(fc2, weights['wd2']), biases['bd2'])\n",
    "    #fc2 = tf.nn.relu(fc2)\n",
    "    #fc3 = tf.reshape(fc2, [-1, weights['wd3'].get_shape().as_list()[0]])\n",
    "    #fc3 = tf.add(tf.matmul(fc3, weights['wd3']), biases['bd3'])\n",
    "    #fc3 = tf.nn.relu(fc3)\n",
    "    # Apply Dropout\n",
    "    #fc3 = tf.nn.dropout(fc3, dropout)\n",
    "    \n",
    "    # Output, class prediction\n",
    "    out = tf.add(tf.matmul(fc1, weights['out']), biases['out'])\n",
    "    \n",
    "    return out\n",
    "\n",
    "# Create some wrappers for simplicity\n",
    "def conv2d(x, W, b, strides=1):\n",
    "    # Conv2D wrapper, with bias and relu activation\n",
    "    x = tf.nn.conv2d(x, W, strides=[1, strides, strides, 1], padding='SAME')\n",
    "    x = tf.nn.bias_add(x, b)\n",
    "    return tf.nn.relu(x)\n",
    "\n",
    "\n",
    "def maxpool2d(x, k=2):\n",
    "    # MaxPool2D wrapper\n",
    "    return tf.nn.max_pool(x, ksize=[1, k, k, 1], strides=[1, k, k, 1],\n",
    "                          padding='SAME')\n",
    "\n",
    "\n",
    "# Store layers weight & bias\n",
    "weights = {\n",
    "    # 5x5 conv, 1 input, 32 outputs\n",
    "    'wc1': tf.Variable(tf.random_normal([5, 5, 1, 32])),\n",
    "    # 5x5 conv, 32 inputs, 64 outputs\n",
    "    'wc2': tf.Variable(tf.random_normal([5, 5, 32, 64])),\n",
    "    # fully connected, 8*8*64 inputs, 1024 outputs\n",
    "    'wd1': tf.Variable(tf.random_normal([8*8*64, 1024])),\n",
    "    # 1024 inputs, 10 outputs (class prediction)\n",
    "    'out': tf.Variable(tf.random_normal([1024, n_classes]))\n",
    "}\n",
    "\n",
    "biases = {\n",
    "    'bc1': tf.Variable(tf.truncated_normal([32])),\n",
    "    'bc2': tf.Variable(tf.truncated_normal([64])),\n",
    "    'bd1': tf.Variable(tf.truncated_normal([1024])),\n",
    "    'out': tf.Variable(tf.truncated_normal([n_classes]))\n",
    "}\n",
    "\n",
    "pred = convNet(x, weights, biases, keep_prob)\n",
    "#Define loss and optimization\n",
    "cost = tf.reduce_mean(tf.nn.softmax_cross_entropy_with_logits(logits=pred,labels=y))\n",
    "learning_rate = 1e-3\n",
    "opt = tf.train.AdamOptimizer(learning_rate=learning_rate)\n",
    "train_op = opt.minimize(cost)\n",
    "\n",
    "# Evaluate model\n",
    "correct_prediction = tf.equal(tf.argmax(pred, 1), tf.argmax(y, 1))\n",
    "accuracy_op = tf.reduce_mean(tf.cast(correct_prediction, tf.float32))"
   ]
  },
  {
   "cell_type": "markdown",
   "metadata": {},
   "source": [
    "### Train, Validate and Test the Model"
   ]
  },
  {
   "cell_type": "markdown",
   "metadata": {},
   "source": [
    "A validation set can be used to assess how well the model is performing. A low accuracy on the training and validation\n",
    "sets imply underfitting. A high accuracy on the training set but low accuracy on the validation set implies overfitting."
   ]
  },
  {
   "cell_type": "code",
   "execution_count": null,
   "metadata": {
    "collapsed": false,
    "scrolled": false
   },
   "outputs": [
    {
     "name": "stderr",
     "output_type": "stream",
     "text": [
      "\n",
      "  0%|          | 0/10 [00:00<?, ?it/s]\u001b[A"
     ]
    },
    {
     "name": "stdout",
     "output_type": "stream",
     "text": [
      "EPOCHS 0\n"
     ]
    },
    {
     "name": "stderr",
     "output_type": "stream",
     "text": [
      "\n"
     ]
    },
    {
     "name": "stdout",
     "output_type": "stream",
     "text": [
      "Iter 3000, Minibatch Loss= 4.087062, Training Accuracy= 0.01361\n",
      "Iter 6000, Minibatch Loss= 4.087277, Training Accuracy= 0.01361\n",
      "Iter 9000, Minibatch Loss= 4.087339, Training Accuracy= 0.01361\n",
      "Iter 12000, Minibatch Loss= 4.087368, Training Accuracy= 0.01361\n",
      "Iter 15000, Minibatch Loss= 4.086715, Training Accuracy= 0.01361\n",
      "Iter 18000, Minibatch Loss= 4.085593, Training Accuracy= 0.01361\n",
      "Iter 21000, Minibatch Loss= 4.084453, Training Accuracy= 0.01361\n",
      "Iter 24000, Minibatch Loss= 4.083007, Training Accuracy= 0.01361\n",
      "Iter 27000, Minibatch Loss= 4.082349, Training Accuracy= 0.01361\n",
      "Iter 30000, Minibatch Loss= 4.080965, Training Accuracy= 0.01361\n",
      "Iter 33000, Minibatch Loss= 4.078657, Training Accuracy= 0.01361\n"
     ]
    },
    {
     "name": "stderr",
     "output_type": "stream",
     "text": [
      "\r",
      " 10%|█         | 1/10 [05:31<49:41, 331.30s/it]"
     ]
    },
    {
     "name": "stdout",
     "output_type": "stream",
     "text": [
      "EPOCHS 1\n",
      "Iter 3000, Minibatch Loss= 4.075521, Training Accuracy= 0.01361\n",
      "Iter 6000, Minibatch Loss= 4.073623, Training Accuracy= 0.01361\n",
      "Iter 9000, Minibatch Loss= 4.071921, Training Accuracy= 0.01361\n",
      "Iter 12000, Minibatch Loss= 4.070305, Training Accuracy= 0.01361\n",
      "Iter 15000, Minibatch Loss= 4.068312, Training Accuracy= 0.01361\n",
      "Iter 18000, Minibatch Loss= 4.066049, Training Accuracy= 0.01361\n",
      "Iter 21000, Minibatch Loss= 4.063980, Training Accuracy= 0.01361\n",
      "Iter 24000, Minibatch Loss= 4.061860, Training Accuracy= 0.01361\n",
      "Iter 27000, Minibatch Loss= 4.060431, Training Accuracy= 0.01361\n",
      "Iter 30000, Minibatch Loss= 4.058622, Training Accuracy= 0.01361\n",
      "Iter 33000, Minibatch Loss= 4.056273, Training Accuracy= 0.01361\n"
     ]
    },
    {
     "name": "stderr",
     "output_type": "stream",
     "text": [
      "\r",
      " 20%|██        | 2/10 [09:54<41:27, 310.95s/it]"
     ]
    },
    {
     "name": "stdout",
     "output_type": "stream",
     "text": [
      "EPOCHS 2\n",
      "Iter 3000, Minibatch Loss= 4.053258, Training Accuracy= 0.01361\n",
      "Iter 6000, Minibatch Loss= 4.051420, Training Accuracy= 0.01361\n",
      "Iter 9000, Minibatch Loss= 4.049711, Training Accuracy= 0.01361\n",
      "Iter 12000, Minibatch Loss= 4.048083, Training Accuracy= 0.01361\n",
      "Iter 15000, Minibatch Loss= 4.046107, Training Accuracy= 0.01361\n",
      "Iter 18000, Minibatch Loss= 4.043859, Training Accuracy= 0.01361\n",
      "Iter 21000, Minibatch Loss= 4.041881, Training Accuracy= 0.01361\n",
      "Iter 24000, Minibatch Loss= 4.039835, Training Accuracy= 0.01361\n",
      "Iter 27000, Minibatch Loss= 4.038474, Training Accuracy= 0.01361\n",
      "Iter 30000, Minibatch Loss= 4.036720, Training Accuracy= 0.01361\n",
      "Iter 33000, Minibatch Loss= 4.034464, Training Accuracy= 0.01361\n"
     ]
    },
    {
     "name": "stderr",
     "output_type": "stream",
     "text": [
      "\r",
      " 30%|███       | 3/10 [14:15<34:32, 296.01s/it]"
     ]
    },
    {
     "name": "stdout",
     "output_type": "stream",
     "text": [
      "EPOCHS 3\n",
      "Iter 3000, Minibatch Loss= 4.031615, Training Accuracy= 0.01361\n",
      "Iter 6000, Minibatch Loss= 4.029805, Training Accuracy= 0.01361\n",
      "Iter 9000, Minibatch Loss= 4.028162, Training Accuracy= 0.01361\n",
      "Iter 12000, Minibatch Loss= 4.026569, Training Accuracy= 0.01361\n",
      "Iter 15000, Minibatch Loss= 4.024694, Training Accuracy= 0.01361\n",
      "Iter 18000, Minibatch Loss= 4.022508, Training Accuracy= 0.01361\n",
      "Iter 21000, Minibatch Loss= 4.020576, Training Accuracy= 0.01361\n",
      "Iter 24000, Minibatch Loss= 4.018674, Training Accuracy= 0.01361\n",
      "Iter 27000, Minibatch Loss= 4.017354, Training Accuracy= 0.01361\n",
      "Iter 30000, Minibatch Loss= 4.015711, Training Accuracy= 0.01361\n",
      "Iter 33000, Minibatch Loss= 4.013545, Training Accuracy= 0.01361\n"
     ]
    },
    {
     "name": "stderr",
     "output_type": "stream",
     "text": [
      "\r",
      " 40%|████      | 4/10 [18:35<28:30, 285.08s/it]"
     ]
    },
    {
     "name": "stdout",
     "output_type": "stream",
     "text": [
      "EPOCHS 4\n",
      "Iter 3000, Minibatch Loss= 4.010833, Training Accuracy= 0.01361\n",
      "Iter 6000, Minibatch Loss= 4.009067, Training Accuracy= 0.01361\n",
      "Iter 9000, Minibatch Loss= 4.007502, Training Accuracy= 0.01361\n",
      "Iter 12000, Minibatch Loss= 4.005976, Training Accuracy= 0.01361\n",
      "Iter 15000, Minibatch Loss= 4.004150, Training Accuracy= 0.01361\n",
      "Iter 18000, Minibatch Loss= 4.002040, Training Accuracy= 0.01361\n",
      "Iter 21000, Minibatch Loss= 4.000202, Training Accuracy= 0.01361\n",
      "Iter 24000, Minibatch Loss= 3.998356, Training Accuracy= 0.01361\n",
      "Iter 27000, Minibatch Loss= 3.997179, Training Accuracy= 0.01361\n",
      "Iter 30000, Minibatch Loss= 3.995630, Training Accuracy= 0.01361\n",
      "Iter 33000, Minibatch Loss= 3.993557, Training Accuracy= 0.03401\n"
     ]
    },
    {
     "name": "stderr",
     "output_type": "stream",
     "text": [
      "\r",
      " 50%|█████     | 5/10 [22:55<23:07, 277.46s/it]"
     ]
    },
    {
     "name": "stdout",
     "output_type": "stream",
     "text": [
      "EPOCHS 5\n",
      "Iter 3000, Minibatch Loss= 3.990949, Training Accuracy= 0.03401\n",
      "Iter 6000, Minibatch Loss= 3.989258, Training Accuracy= 0.03401\n",
      "Iter 9000, Minibatch Loss= 3.987772, Training Accuracy= 0.03401\n",
      "Iter 12000, Minibatch Loss= 3.986301, Training Accuracy= 0.03401\n",
      "Iter 15000, Minibatch Loss= 3.984541, Training Accuracy= 0.03401\n",
      "Iter 18000, Minibatch Loss= 3.982542, Training Accuracy= 0.03401\n",
      "Iter 21000, Minibatch Loss= 3.980777, Training Accuracy= 0.03401\n",
      "Iter 24000, Minibatch Loss= 3.979046, Training Accuracy= 0.03401\n",
      "Iter 27000, Minibatch Loss= 3.977934, Training Accuracy= 0.03401\n",
      "Iter 30000, Minibatch Loss= 3.976441, Training Accuracy= 0.03401\n",
      "Iter 33000, Minibatch Loss= 3.974470, Training Accuracy= 0.03401\n"
     ]
    },
    {
     "name": "stderr",
     "output_type": "stream",
     "text": [
      "\r",
      " 60%|██████    | 6/10 [27:15<18:09, 272.43s/it]"
     ]
    },
    {
     "name": "stdout",
     "output_type": "stream",
     "text": [
      "EPOCHS 6\n",
      "Iter 3000, Minibatch Loss= 3.972009, Training Accuracy= 0.03401\n",
      "Iter 6000, Minibatch Loss= 3.970403, Training Accuracy= 0.03401\n",
      "Iter 9000, Minibatch Loss= 3.968963, Training Accuracy= 0.03401\n",
      "Iter 12000, Minibatch Loss= 3.967553, Training Accuracy= 0.03401\n",
      "Iter 15000, Minibatch Loss= 3.965850, Training Accuracy= 0.03401\n",
      "Iter 18000, Minibatch Loss= 3.963936, Training Accuracy= 0.03401\n",
      "Iter 21000, Minibatch Loss= 3.962282, Training Accuracy= 0.03401\n",
      "Iter 24000, Minibatch Loss= 3.960593, Training Accuracy= 0.03401\n",
      "Iter 27000, Minibatch Loss= 3.959599, Training Accuracy= 0.03401\n",
      "Iter 30000, Minibatch Loss= 3.958158, Training Accuracy= 0.03401\n",
      "Iter 33000, Minibatch Loss= 3.956302, Training Accuracy= 0.03401\n"
     ]
    },
    {
     "name": "stderr",
     "output_type": "stream",
     "text": [
      "\r",
      " 70%|███████   | 7/10 [31:36<13:26, 268.98s/it]"
     ]
    },
    {
     "name": "stdout",
     "output_type": "stream",
     "text": [
      "EPOCHS 7\n",
      "Iter 3000, Minibatch Loss= 3.953925, Training Accuracy= 0.03401\n",
      "Iter 6000, Minibatch Loss= 3.952381, Training Accuracy= 0.03401\n",
      "Iter 9000, Minibatch Loss= 3.951001, Training Accuracy= 0.03401\n",
      "Iter 12000, Minibatch Loss= 3.949676, Training Accuracy= 0.03401\n",
      "Iter 15000, Minibatch Loss= 3.948040, Training Accuracy= 0.03401\n",
      "Iter 18000, Minibatch Loss= 3.946214, Training Accuracy= 0.03401\n",
      "Iter 21000, Minibatch Loss= 3.944641, Training Accuracy= 0.03401\n",
      "Iter 24000, Minibatch Loss= 3.943044, Training Accuracy= 0.03401\n",
      "Iter 27000, Minibatch Loss= 3.942107, Training Accuracy= 0.03401\n",
      "Iter 30000, Minibatch Loss= 3.940797, Training Accuracy= 0.03401\n",
      "Iter 33000, Minibatch Loss= 3.938972, Training Accuracy= 0.03401\n"
     ]
    },
    {
     "name": "stderr",
     "output_type": "stream",
     "text": [
      "\r",
      " 80%|████████  | 8/10 [36:01<08:55, 267.58s/it]"
     ]
    },
    {
     "name": "stdout",
     "output_type": "stream",
     "text": [
      "EPOCHS 8\n",
      "Iter 3000, Minibatch Loss= 3.936714, Training Accuracy= 0.03401\n",
      "Iter 6000, Minibatch Loss= 3.935207, Training Accuracy= 0.03401\n",
      "Iter 9000, Minibatch Loss= 3.933926, Training Accuracy= 0.03401\n",
      "Iter 12000, Minibatch Loss= 3.932660, Training Accuracy= 0.03401\n",
      "Iter 15000, Minibatch Loss= 3.931078, Training Accuracy= 0.03401\n",
      "Iter 18000, Minibatch Loss= 3.929325, Training Accuracy= 0.03401\n",
      "Iter 21000, Minibatch Loss= 3.927823, Training Accuracy= 0.03401\n",
      "Iter 24000, Minibatch Loss= 3.926328, Training Accuracy= 0.03401\n",
      "Iter 27000, Minibatch Loss= 3.925466, Training Accuracy= 0.03401\n",
      "Iter 30000, Minibatch Loss= 3.924202, Training Accuracy= 0.03401\n",
      "Iter 33000, Minibatch Loss= 3.922461, Training Accuracy= 0.03401\n"
     ]
    },
    {
     "name": "stderr",
     "output_type": "stream",
     "text": [
      "\r",
      " 90%|█████████ | 9/10 [40:53<04:35, 275.04s/it]"
     ]
    },
    {
     "name": "stdout",
     "output_type": "stream",
     "text": [
      "EPOCHS 9\n",
      "Iter 3000, Minibatch Loss= 3.920318, Training Accuracy= 0.03401\n",
      "Iter 6000, Minibatch Loss= 3.918864, Training Accuracy= 0.03401\n",
      "Iter 9000, Minibatch Loss= 3.917638, Training Accuracy= 0.03401\n",
      "Iter 12000, Minibatch Loss= 3.916392, Training Accuracy= 0.03401\n",
      "Iter 15000, Minibatch Loss= 3.914935, Training Accuracy= 0.03401\n",
      "Iter 18000, Minibatch Loss= 3.913226, Training Accuracy= 0.03401\n",
      "Iter 21000, Minibatch Loss= 3.911799, Training Accuracy= 0.03401\n",
      "Iter 24000, Minibatch Loss= 3.910396, Training Accuracy= 0.03401\n",
      "Iter 27000, Minibatch Loss= 3.909569, Training Accuracy= 0.03401\n",
      "Iter 30000, Minibatch Loss= 3.908386, Training Accuracy= 0.03401\n",
      "Iter 33000, Minibatch Loss= 3.906730, Training Accuracy= 0.03401\n"
     ]
    },
    {
     "name": "stderr",
     "output_type": "stream",
     "text": [
      "100%|██████████| 10/10 [46:26<00:00, 292.31s/it]\n"
     ]
    },
    {
     "name": "stdout",
     "output_type": "stream",
     "text": [
      "Optimization Finished!\n"
     ]
    }
   ],
   "source": [
    "### Train your model here.\n",
    "### Calculate and report the accuracy on the training and validation set.\n",
    "### Once a final model architecture is selected, \n",
    "### the accuracy on the test set should be calculated and reported as well.\n",
    "### Feel free to use as many code cells as needed.\n",
    "num_of_epochs = 10\n",
    "batch_size= 300\n",
    "training_iters = n_train\n",
    "dropout = 0.8 # Dropout, probability to keep units\n",
    "display_step = 10\n",
    "\n",
    "with tf.Session() as sess:\n",
    "    sess.run(tf.global_variables_initializer())\n",
    "    for num in tqdm(range(num_of_epochs)):\n",
    "        print(\"EPOCHS \" + str(num))\n",
    "        step = 1\n",
    "        # Keep training until reach max iterations\n",
    "        while step * batch_size < training_iters:\n",
    "            batch_x = train_features_gray[(step-1)*batch_size:step*batch_size]\n",
    "            batch_y = train_labels_43[(step-1)*batch_size:step*batch_size]\n",
    "            # Run optimization op (backprop)\n",
    "            sess.run(train_op, feed_dict={x: batch_x, y: batch_y, keep_prob: dropout})\n",
    "\n",
    "            if step % display_step == 0:\n",
    "                # Calculate batch loss and accuracy\n",
    "                loss, acc = sess.run([cost, accuracy_op], feed_dict={x: valid_features_gray,y: valid_labels_43, keep_prob: 1})\n",
    "                print(\"Iter \" + str(step*batch_size) + \", Minibatch Loss= \" + \\\n",
    "                       \"{:.6f}\".format(loss) + \", Training Accuracy= \" + \\\n",
    "                       \"{:.5f}\".format(acc))\n",
    "\n",
    "            step += 1\n",
    "    print(\"Optimization Finished!\")\n",
    "\n",
    "    \n",
    "    print(\"Testing Accuracy:\", \\\n",
    "        sess.run(accuracy_op, feed_dict={x: test_features_gray[:n_test],\n",
    "                                      y: test_labels_43[:n_test],\n",
    "                                      keep_prob: 1.}))"
   ]
  },
  {
   "cell_type": "markdown",
   "metadata": {},
   "source": [
    "---\n",
    "\n",
    "## Step 3: Test a Model on New Images\n",
    "\n",
    "To give yourself more insight into how your model is working, download at least five pictures of German traffic signs from the web and use your model to predict the traffic sign type.\n",
    "\n",
    "You may find `signnames.csv` useful as it contains mappings from the class id (integer) to the actual sign name."
   ]
  },
  {
   "cell_type": "markdown",
   "metadata": {},
   "source": [
    "### Load and Output the Images"
   ]
  },
  {
   "cell_type": "code",
   "execution_count": null,
   "metadata": {
    "collapsed": true
   },
   "outputs": [],
   "source": [
    "### Load the images and plot them here.\n",
    "### Feel free to use as many code cells as needed."
   ]
  },
  {
   "cell_type": "markdown",
   "metadata": {},
   "source": [
    "### Predict the Sign Type for Each Image"
   ]
  },
  {
   "cell_type": "code",
   "execution_count": null,
   "metadata": {
    "collapsed": true
   },
   "outputs": [],
   "source": [
    "### Run the predictions here and use the model to output the prediction for each image.\n",
    "### Make sure to pre-process the images with the same pre-processing pipeline used earlier.\n",
    "### Feel free to use as many code cells as needed."
   ]
  },
  {
   "cell_type": "markdown",
   "metadata": {},
   "source": [
    "### Analyze Performance"
   ]
  },
  {
   "cell_type": "code",
   "execution_count": null,
   "metadata": {
    "collapsed": true
   },
   "outputs": [],
   "source": [
    "### Calculate the accuracy for these 5 new images. \n",
    "### For example, if the model predicted 1 out of 5 signs correctly, it's 20% accurate on these new images."
   ]
  },
  {
   "cell_type": "markdown",
   "metadata": {},
   "source": [
    "### Output Top 5 Softmax Probabilities For Each Image Found on the Web"
   ]
  },
  {
   "cell_type": "markdown",
   "metadata": {},
   "source": [
    "For each of the new images, print out the model's softmax probabilities to show the **certainty** of the model's predictions (limit the output to the top 5 probabilities for each image). [`tf.nn.top_k`](https://www.tensorflow.org/versions/r0.12/api_docs/python/nn.html#top_k) could prove helpful here. \n",
    "\n",
    "The example below demonstrates how tf.nn.top_k can be used to find the top k predictions for each image.\n",
    "\n",
    "`tf.nn.top_k` will return the values and indices (class ids) of the top k predictions. So if k=3, for each sign, it'll return the 3 largest probabilities (out of a possible 43) and the correspoding class ids.\n",
    "\n",
    "Take this numpy array as an example. The values in the array represent predictions. The array contains softmax probabilities for five candidate images with six possible classes. `tk.nn.top_k` is used to choose the three classes with the highest probability:\n",
    "\n",
    "```\n",
    "# (5, 6) array\n",
    "a = np.array([[ 0.24879643,  0.07032244,  0.12641572,  0.34763842,  0.07893497,\n",
    "         0.12789202],\n",
    "       [ 0.28086119,  0.27569815,  0.08594638,  0.0178669 ,  0.18063401,\n",
    "         0.15899337],\n",
    "       [ 0.26076848,  0.23664738,  0.08020603,  0.07001922,  0.1134371 ,\n",
    "         0.23892179],\n",
    "       [ 0.11943333,  0.29198961,  0.02605103,  0.26234032,  0.1351348 ,\n",
    "         0.16505091],\n",
    "       [ 0.09561176,  0.34396535,  0.0643941 ,  0.16240774,  0.24206137,\n",
    "         0.09155967]])\n",
    "```\n",
    "\n",
    "Running it through `sess.run(tf.nn.top_k(tf.constant(a), k=3))` produces:\n",
    "\n",
    "```\n",
    "TopKV2(values=array([[ 0.34763842,  0.24879643,  0.12789202],\n",
    "       [ 0.28086119,  0.27569815,  0.18063401],\n",
    "       [ 0.26076848,  0.23892179,  0.23664738],\n",
    "       [ 0.29198961,  0.26234032,  0.16505091],\n",
    "       [ 0.34396535,  0.24206137,  0.16240774]]), indices=array([[3, 0, 5],\n",
    "       [0, 1, 4],\n",
    "       [0, 5, 1],\n",
    "       [1, 3, 5],\n",
    "       [1, 4, 3]], dtype=int32))\n",
    "```\n",
    "\n",
    "Looking just at the first row we get `[ 0.34763842,  0.24879643,  0.12789202]`, you can confirm these are the 3 largest probabilities in `a`. You'll also notice `[3, 0, 5]` are the corresponding indices."
   ]
  },
  {
   "cell_type": "code",
   "execution_count": null,
   "metadata": {
    "collapsed": true
   },
   "outputs": [],
   "source": [
    "### Print out the top five softmax probabilities for the predictions on the German traffic sign images found on the web. \n",
    "### Feel free to use as many code cells as needed."
   ]
  },
  {
   "cell_type": "markdown",
   "metadata": {},
   "source": [
    "---\n",
    "\n",
    "## Step 4: Visualize the Neural Network's State with Test Images\n",
    "\n",
    " This Section is not required to complete but acts as an additional excersise for understaning the output of a neural network's weights. While neural networks can be a great learning device they are often referred to as a black box. We can understand what the weights of a neural network look like better by plotting their feature maps. After successfully training your neural network you can see what it's feature maps look like by plotting the output of the network's weight layers in response to a test stimuli image. From these plotted feature maps, it's possible to see what characteristics of an image the network finds interesting. For a sign, maybe the inner network feature maps react with high activation to the sign's boundary outline or to the contrast in the sign's painted symbol.\n",
    "\n",
    " Provided for you below is the function code that allows you to get the visualization output of any tensorflow weight layer you want. The inputs to the function should be a stimuli image, one used during training or a new one you provided, and then the tensorflow variable name that represents the layer's state during the training process, for instance if you wanted to see what the [LeNet lab's](https://classroom.udacity.com/nanodegrees/nd013/parts/fbf77062-5703-404e-b60c-95b78b2f3f9e/modules/6df7ae49-c61c-4bb2-a23e-6527e69209ec/lessons/601ae704-1035-4287-8b11-e2c2716217ad/concepts/d4aca031-508f-4e0b-b493-e7b706120f81) feature maps looked like for it's second convolutional layer you could enter conv2 as the tf_activation variable.\n",
    "\n",
    "For an example of what feature map outputs look like, check out NVIDIA's results in their paper [End-to-End Deep Learning for Self-Driving Cars](https://devblogs.nvidia.com/parallelforall/deep-learning-self-driving-cars/) in the section Visualization of internal CNN State. NVIDIA was able to show that their network's inner weights had high activations to road boundary lines by comparing feature maps from an image with a clear path to one without. Try experimenting with a similar test to show that your trained network's weights are looking for interesting features, whether it's looking at differences in feature maps from images with or without a sign, or even what feature maps look like in a trained network vs a completely untrained one on the same sign image.\n",
    "\n",
    "<figure>\n",
    " <img src=\"visualize_cnn.png\" width=\"380\" alt=\"Combined Image\" />\n",
    " <figcaption>\n",
    " <p></p> \n",
    " <p style=\"text-align: center;\"> Your output should look something like this (above)</p> \n",
    " </figcaption>\n",
    "</figure>\n",
    " <p></p> \n"
   ]
  },
  {
   "cell_type": "code",
   "execution_count": null,
   "metadata": {
    "collapsed": true
   },
   "outputs": [],
   "source": [
    "### Visualize your network's feature maps here.\n",
    "### Feel free to use as many code cells as needed.\n",
    "\n",
    "# image_input: the test image being fed into the network to produce the feature maps\n",
    "# tf_activation: should be a tf variable name used during your training procedure that represents the calculated state of a specific weight layer\n",
    "# activation_min/max: can be used to view the activation contrast in more detail, by default matplot sets min and max to the actual min and max values of the output\n",
    "# plt_num: used to plot out multiple different weight feature map sets on the same block, just extend the plt number for each new feature map entry\n",
    "\n",
    "def outputFeatureMap(image_input, tf_activation, activation_min=-1, activation_max=-1 ,plt_num=1):\n",
    "    # Here make sure to preprocess your image_input in a way your network expects\n",
    "    # with size, normalization, ect if needed\n",
    "    # image_input =\n",
    "    # Note: x should be the same name as your network's tensorflow data placeholder variable\n",
    "    # If you get an error tf_activation is not defined it maybe having trouble accessing the variable from inside a function\n",
    "    activation = tf_activation.eval(session=sess,feed_dict={x : image_input})\n",
    "    featuremaps = activation.shape[3]\n",
    "    plt.figure(plt_num, figsize=(15,15))\n",
    "    for featuremap in range(featuremaps):\n",
    "        plt.subplot(6,8, featuremap+1) # sets the number of feature maps to show on each row and column\n",
    "        plt.title('FeatureMap ' + str(featuremap)) # displays the feature map number\n",
    "        if activation_min != -1 & activation_max != -1:\n",
    "            plt.imshow(activation[0,:,:, featuremap], interpolation=\"nearest\", vmin =activation_min, vmax=activation_max, cmap=\"gray\")\n",
    "        elif activation_max != -1:\n",
    "            plt.imshow(activation[0,:,:, featuremap], interpolation=\"nearest\", vmax=activation_max, cmap=\"gray\")\n",
    "        elif activation_min !=-1:\n",
    "            plt.imshow(activation[0,:,:, featuremap], interpolation=\"nearest\", vmin=activation_min, cmap=\"gray\")\n",
    "        else:\n",
    "            plt.imshow(activation[0,:,:, featuremap], interpolation=\"nearest\", cmap=\"gray\")"
   ]
  },
  {
   "cell_type": "markdown",
   "metadata": {},
   "source": [
    "### Question 9\n",
    "\n",
    "Discuss how you used the visual output of your trained network's feature maps to show that it had learned to look for interesting characteristics in traffic sign images\n"
   ]
  },
  {
   "cell_type": "markdown",
   "metadata": {},
   "source": [
    "**Answer:**"
   ]
  },
  {
   "cell_type": "markdown",
   "metadata": {},
   "source": [
    "> **Note**: Once you have completed all of the code implementations and successfully answered each question above, you may finalize your work by exporting the iPython Notebook as an HTML document. You can do this by using the menu above and navigating to  \\n\",\n",
    "    \"**File -> Download as -> HTML (.html)**. Include the finished document along with this notebook as your submission."
   ]
  },
  {
   "cell_type": "markdown",
   "metadata": {},
   "source": [
    "### Project Writeup\n",
    "\n",
    "Once you have completed the code implementation, document your results in a project writeup using this [template](https://github.com/udacity/CarND-Traffic-Sign-Classifier-Project/blob/master/writeup_template.md) as a guide. The writeup can be in a markdown or pdf file. "
   ]
  },
  {
   "cell_type": "code",
   "execution_count": null,
   "metadata": {
    "collapsed": true
   },
   "outputs": [],
   "source": []
  },
  {
   "cell_type": "code",
   "execution_count": null,
   "metadata": {
    "collapsed": true
   },
   "outputs": [],
   "source": []
  },
  {
   "cell_type": "code",
   "execution_count": null,
   "metadata": {
    "collapsed": true
   },
   "outputs": [],
   "source": []
  },
  {
   "cell_type": "code",
   "execution_count": null,
   "metadata": {
    "collapsed": true
   },
   "outputs": [],
   "source": []
  },
  {
   "cell_type": "code",
   "execution_count": null,
   "metadata": {
    "collapsed": true
   },
   "outputs": [],
   "source": []
  }
 ],
 "metadata": {
  "anaconda-cloud": {},
  "kernelspec": {
   "display_name": "Python 3",
   "language": "python",
   "name": "python3"
  },
  "language_info": {
   "codemirror_mode": {
    "name": "ipython",
    "version": 3
   },
   "file_extension": ".py",
   "mimetype": "text/x-python",
   "name": "python",
   "nbconvert_exporter": "python",
   "pygments_lexer": "ipython3",
   "version": "3.5.2"
  },
  "widgets": {
   "state": {},
   "version": "1.1.2"
  }
 },
 "nbformat": 4,
 "nbformat_minor": 1
}
